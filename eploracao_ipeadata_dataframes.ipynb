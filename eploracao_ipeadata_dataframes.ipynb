{
 "cells": [
  {
   "cell_type": "markdown",
   "id": "c37f865a-6e59-4b4a-9549-b4b1294a036c",
   "metadata": {
    "pycharm": {
     "name": "#%% md\n"
    }
   },
   "source": [
    "# Importação"
   ]
  },
  {
   "cell_type": "code",
   "execution_count": 2,
   "id": "41738953-1f32-49f7-b053-d2808b96eca3",
   "metadata": {
    "pycharm": {
     "name": "#%%\n"
    }
   },
   "outputs": [],
   "source": [
    "import ipeadatapy as ipea"
   ]
  },
  {
   "cell_type": "code",
   "execution_count": 6,
   "id": "6431fc00-cddb-4058-8002-46a422fab1fb",
   "metadata": {
    "pycharm": {
     "name": "#%%\n"
    }
   },
   "outputs": [
    {
     "data": {
      "text/html": [
       "<div>\n",
       "<style scoped>\n",
       "    .dataframe tbody tr th:only-of-type {\n",
       "        vertical-align: middle;\n",
       "    }\n",
       "\n",
       "    .dataframe tbody tr th {\n",
       "        vertical-align: top;\n",
       "    }\n",
       "\n",
       "    .dataframe thead th {\n",
       "        text-align: right;\n",
       "    }\n",
       "</style>\n",
       "<table border=\"1\" class=\"dataframe\">\n",
       "  <thead>\n",
       "    <tr style=\"text-align: right;\">\n",
       "      <th></th>\n",
       "      <th>taxa de desemprego - força de trabalho</th>\n",
       "    </tr>\n",
       "  </thead>\n",
       "  <tbody>\n",
       "    <tr>\n",
       "      <th>Name</th>\n",
       "      <td>taxa de desemprego - força de trabalho</td>\n",
       "    </tr>\n",
       "    <tr>\n",
       "      <th>Code</th>\n",
       "      <td>ECONMI12_ALU12</td>\n",
       "    </tr>\n",
       "    <tr>\n",
       "      <th>Big Theme</th>\n",
       "      <td>Macroeconômico</td>\n",
       "    </tr>\n",
       "    <tr>\n",
       "      <th>Theme</th>\n",
       "      <td>Economia internacional</td>\n",
       "    </tr>\n",
       "    <tr>\n",
       "      <th>Source</th>\n",
       "      <td>The Economist</td>\n",
       "    </tr>\n",
       "    <tr>\n",
       "      <th>Source acronym</th>\n",
       "      <td>Economist</td>\n",
       "    </tr>\n",
       "    <tr>\n",
       "      <th>Comment</th>\n",
       "      <td>A taxa de desemprego consiste na razão entre p...</td>\n",
       "    </tr>\n",
       "    <tr>\n",
       "      <th>Last update</th>\n",
       "      <td>2022-06-02T16:50:00.777-03:00</td>\n",
       "    </tr>\n",
       "    <tr>\n",
       "      <th>Frequency</th>\n",
       "      <td>Mensal</td>\n",
       "    </tr>\n",
       "    <tr>\n",
       "      <th>Measure</th>\n",
       "      <td>(%)</td>\n",
       "    </tr>\n",
       "    <tr>\n",
       "      <th>Unit</th>\n",
       "      <td>None</td>\n",
       "    </tr>\n",
       "    <tr>\n",
       "      <th>Status</th>\n",
       "      <td>A</td>\n",
       "    </tr>\n",
       "  </tbody>\n",
       "</table>\n",
       "</div>"
      ],
      "text/plain": [
       "                           taxa de desemprego - força de trabalho\n",
       "Name                       taxa de desemprego - força de trabalho\n",
       "Code                                               ECONMI12_ALU12\n",
       "Big Theme                                          Macroeconômico\n",
       "Theme                                      Economia internacional\n",
       "Source                                              The Economist\n",
       "Source acronym                                          Economist\n",
       "Comment         A taxa de desemprego consiste na razão entre p...\n",
       "Last update                         2022-06-02T16:50:00.777-03:00\n",
       "Frequency                                                  Mensal\n",
       "Measure                                                       (%)\n",
       "Unit                                                         None\n",
       "Status                                                          A"
      ]
     },
     "execution_count": 6,
     "metadata": {},
     "output_type": "execute_result"
    }
   ],
   "source": [
    "ipea.describe('ECONMI12_ALU12')"
   ]
  },
  {
   "cell_type": "code",
   "execution_count": 2,
   "id": "f59a3353-6ccd-4ba1-860f-e8bed8475806",
   "metadata": {
    "pycharm": {
     "name": "#%%\n"
    }
   },
   "outputs": [],
   "source": [
    "pib = ipea.describe('BM12_PIB12')"
   ]
  },
  {
   "cell_type": "code",
   "execution_count": 3,
   "id": "c5c2f0cb-d773-4c82-8260-41c9c6c58533",
   "metadata": {
    "pycharm": {
     "name": "#%%\n"
    }
   },
   "outputs": [
    {
     "data": {
      "text/html": [
       "<div>\n",
       "<style scoped>\n",
       "    .dataframe tbody tr th:only-of-type {\n",
       "        vertical-align: middle;\n",
       "    }\n",
       "\n",
       "    .dataframe tbody tr th {\n",
       "        vertical-align: top;\n",
       "    }\n",
       "\n",
       "    .dataframe thead th {\n",
       "        text-align: right;\n",
       "    }\n",
       "</style>\n",
       "<table border=\"1\" class=\"dataframe\">\n",
       "  <thead>\n",
       "    <tr style=\"text-align: right;\">\n",
       "      <th></th>\n",
       "      <th>PIB</th>\n",
       "    </tr>\n",
       "  </thead>\n",
       "  <tbody>\n",
       "    <tr>\n",
       "      <th>Name</th>\n",
       "      <td>PIB</td>\n",
       "    </tr>\n",
       "    <tr>\n",
       "      <th>Code</th>\n",
       "      <td>BM12_PIB12</td>\n",
       "    </tr>\n",
       "    <tr>\n",
       "      <th>Big Theme</th>\n",
       "      <td>Macroeconômico</td>\n",
       "    </tr>\n",
       "    <tr>\n",
       "      <th>Theme</th>\n",
       "      <td>Contas nacionais</td>\n",
       "    </tr>\n",
       "    <tr>\n",
       "      <th>Source</th>\n",
       "      <td>Banco Central do Brasil, Boletim, Seção Ativid...</td>\n",
       "    </tr>\n",
       "    <tr>\n",
       "      <th>Source acronym</th>\n",
       "      <td>Bacen/Boletim/Ativ. Ec.</td>\n",
       "    </tr>\n",
       "    <tr>\n",
       "      <th>Comment</th>\n",
       "      <td>O Produto Interno Bruto (PIB) denominado como ...</td>\n",
       "    </tr>\n",
       "    <tr>\n",
       "      <th>Last update</th>\n",
       "      <td>2022-06-29T15:12:01.157-03:00</td>\n",
       "    </tr>\n",
       "    <tr>\n",
       "      <th>Frequency</th>\n",
       "      <td>Mensal</td>\n",
       "    </tr>\n",
       "    <tr>\n",
       "      <th>Measure</th>\n",
       "      <td>R$</td>\n",
       "    </tr>\n",
       "    <tr>\n",
       "      <th>Unit</th>\n",
       "      <td>milhões</td>\n",
       "    </tr>\n",
       "    <tr>\n",
       "      <th>Status</th>\n",
       "      <td>A</td>\n",
       "    </tr>\n",
       "  </tbody>\n",
       "</table>\n",
       "</div>"
      ],
      "text/plain": [
       "                                                              PIB\n",
       "Name                                                          PIB\n",
       "Code                                                   BM12_PIB12\n",
       "Big Theme                                          Macroeconômico\n",
       "Theme                                            Contas nacionais\n",
       "Source          Banco Central do Brasil, Boletim, Seção Ativid...\n",
       "Source acronym                            Bacen/Boletim/Ativ. Ec.\n",
       "Comment         O Produto Interno Bruto (PIB) denominado como ...\n",
       "Last update                         2022-06-29T15:12:01.157-03:00\n",
       "Frequency                                                  Mensal\n",
       "Measure                                                        R$\n",
       "Unit                                                      milhões\n",
       "Status                                                          A"
      ]
     },
     "execution_count": 3,
     "metadata": {},
     "output_type": "execute_result"
    }
   ],
   "source": [
    "pib"
   ]
  },
  {
   "cell_type": "code",
   "execution_count": 4,
   "id": "f5d329f8-53d6-452a-9b64-bd77a03c241e",
   "metadata": {
    "pycharm": {
     "name": "#%%\n"
    }
   },
   "outputs": [],
   "source": [
    "time_pib = ipea.timeseries('BM12_PIB12')"
   ]
  },
  {
   "cell_type": "code",
   "execution_count": 9,
   "id": "878df7e0-ed98-4492-b320-48c219dbe85e",
   "metadata": {
    "pycharm": {
     "name": "#%%\n"
    }
   },
   "outputs": [
    {
     "data": {
      "text/html": [
       "<div>\n",
       "<style scoped>\n",
       "    .dataframe tbody tr th:only-of-type {\n",
       "        vertical-align: middle;\n",
       "    }\n",
       "\n",
       "    .dataframe tbody tr th {\n",
       "        vertical-align: top;\n",
       "    }\n",
       "\n",
       "    .dataframe thead th {\n",
       "        text-align: right;\n",
       "    }\n",
       "</style>\n",
       "<table border=\"1\" class=\"dataframe\">\n",
       "  <thead>\n",
       "    <tr style=\"text-align: right;\">\n",
       "      <th></th>\n",
       "      <th>YEAR</th>\n",
       "      <th>DAY</th>\n",
       "      <th>MONTH</th>\n",
       "      <th>CODE</th>\n",
       "      <th>RAW DATE</th>\n",
       "      <th>VALUE (R$)</th>\n",
       "    </tr>\n",
       "    <tr>\n",
       "      <th>DATE</th>\n",
       "      <th></th>\n",
       "      <th></th>\n",
       "      <th></th>\n",
       "      <th></th>\n",
       "      <th></th>\n",
       "      <th></th>\n",
       "    </tr>\n",
       "  </thead>\n",
       "  <tbody>\n",
       "    <tr>\n",
       "      <th>1990-01-01</th>\n",
       "      <td>1990</td>\n",
       "      <td>1</td>\n",
       "      <td>1</td>\n",
       "      <td>BM12_PIB12</td>\n",
       "      <td>1990-01-01T00:00:00-02:00</td>\n",
       "      <td>0.2</td>\n",
       "    </tr>\n",
       "    <tr>\n",
       "      <th>1990-02-01</th>\n",
       "      <td>1990</td>\n",
       "      <td>1</td>\n",
       "      <td>2</td>\n",
       "      <td>BM12_PIB12</td>\n",
       "      <td>1990-02-01T00:00:00-02:00</td>\n",
       "      <td>0.4</td>\n",
       "    </tr>\n",
       "    <tr>\n",
       "      <th>1990-03-01</th>\n",
       "      <td>1990</td>\n",
       "      <td>1</td>\n",
       "      <td>3</td>\n",
       "      <td>BM12_PIB12</td>\n",
       "      <td>1990-03-01T00:00:00-03:00</td>\n",
       "      <td>0.8</td>\n",
       "    </tr>\n",
       "    <tr>\n",
       "      <th>1990-04-01</th>\n",
       "      <td>1990</td>\n",
       "      <td>1</td>\n",
       "      <td>4</td>\n",
       "      <td>BM12_PIB12</td>\n",
       "      <td>1990-04-01T00:00:00-03:00</td>\n",
       "      <td>0.7</td>\n",
       "    </tr>\n",
       "    <tr>\n",
       "      <th>1990-05-01</th>\n",
       "      <td>1990</td>\n",
       "      <td>1</td>\n",
       "      <td>5</td>\n",
       "      <td>BM12_PIB12</td>\n",
       "      <td>1990-05-01T00:00:00-03:00</td>\n",
       "      <td>0.8</td>\n",
       "    </tr>\n",
       "  </tbody>\n",
       "</table>\n",
       "</div>"
      ],
      "text/plain": [
       "            YEAR  DAY  MONTH        CODE                   RAW DATE  \\\n",
       "DATE                                                                  \n",
       "1990-01-01  1990    1      1  BM12_PIB12  1990-01-01T00:00:00-02:00   \n",
       "1990-02-01  1990    1      2  BM12_PIB12  1990-02-01T00:00:00-02:00   \n",
       "1990-03-01  1990    1      3  BM12_PIB12  1990-03-01T00:00:00-03:00   \n",
       "1990-04-01  1990    1      4  BM12_PIB12  1990-04-01T00:00:00-03:00   \n",
       "1990-05-01  1990    1      5  BM12_PIB12  1990-05-01T00:00:00-03:00   \n",
       "\n",
       "            VALUE (R$)  \n",
       "DATE                    \n",
       "1990-01-01         0.2  \n",
       "1990-02-01         0.4  \n",
       "1990-03-01         0.8  \n",
       "1990-04-01         0.7  \n",
       "1990-05-01         0.8  "
      ]
     },
     "execution_count": 9,
     "metadata": {},
     "output_type": "execute_result"
    }
   ],
   "source": [
    "time_pib.head()"
   ]
  },
  {
   "cell_type": "code",
   "execution_count": 8,
   "id": "00aaa4ed-3ac0-44a4-acfd-8243c7cade6d",
   "metadata": {
    "pycharm": {
     "name": "#%%\n"
    }
   },
   "outputs": [
    {
     "data": {
      "text/plain": [
       "<AxesSubplot:xlabel='MONTH'>"
      ]
     },
     "execution_count": 8,
     "metadata": {},
     "output_type": "execute_result"
    },
    {
     "data": {
      "image/png": "[encoded data removed]",
      "text/plain": [
       "<Figure size 432x288 with 1 Axes>"
      ]
     },
     "metadata": {
      "needs_background": "light"
     },
     "output_type": "display_data"
    }
   ],
   "source": [
    "time_pib.plot('MONTH', 'VALUE (R$)')"
   ]
  },
  {
   "cell_type": "code",
   "execution_count": 10,
   "id": "5dc46653-56c9-41b9-866a-3ad98c57c32b",
   "metadata": {
    "pycharm": {
     "name": "#%%\n"
    }
   },
   "outputs": [
    {
     "name": "stdout",
     "output_type": "stream",
     "text": [
      "<class 'pandas.core.frame.DataFrame'>\n"
     ]
    }
   ],
   "source": [
    "print(type(pib))"
   ]
  },
  {
   "cell_type": "markdown",
   "id": "8124fc97-fa3a-41c6-85b3-668d4d5674b0",
   "metadata": {
    "pycharm": {
     "name": "#%% md\n"
    }
   },
   "source": [
    "## Exploração das variáveis PIB"
   ]
  },
  {
   "cell_type": "code",
   "execution_count": null,
   "id": "2a4b4050-37fe-4edb-95e2-7fbfec475bac",
   "metadata": {
    "pycharm": {
     "name": "#%%\n"
    }
   },
   "outputs": [],
   "source": [
    "tupla_dataframes = ('SGS12_IBCBR12', 'GAC12_PPCTAXAC12', 'WDI_PPCTAXAC', 'WDI_PPCTAXAC2011'"
   ]
  }
 ],
 "metadata": {
  "kernelspec": {
   "display_name": "Python 3 (ipykernel)",
   "language": "python",
   "name": "python3"
  },
  "language_info": {
   "codemirror_mode": {
    "name": "ipython",
    "version": 3
   },
   "file_extension": ".py",
   "mimetype": "text/x-python",
   "name": "python",
   "nbconvert_exporter": "python",
   "pygments_lexer": "ipython3",
   "version": "3.10.4"
  }
 },
 "nbformat": 4,
 "nbformat_minor": 5
}