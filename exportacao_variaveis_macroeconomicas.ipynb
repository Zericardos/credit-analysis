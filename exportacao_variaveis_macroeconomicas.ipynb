{
 "cells": [
  {
   "cell_type": "markdown",
   "id": "4faaf8c8-e9ee-4baf-aeb5-b53187bf9090",
   "metadata": {
    "pycharm": {
     "name": "#%% md\n"
    }
   },
   "source": [
    "# Criação de arquivos CSVs para análise exploratória das variáveis macroeconômicas"
   ]
  },
  {
   "cell_type": "markdown",
   "id": "700d29f0-8a67-48a4-a388-ecb507a221ae",
   "metadata": {
    "pycharm": {
     "name": "#%% md\n"
    }
   },
   "source": [
    "## Importação de bibliotecas e criação de função"
   ]
  },
  {
   "cell_type": "code",
   "execution_count": 29,
   "id": "c936cfb7-bf4c-40e9-a5d5-16a0b4f1b9dc",
   "metadata": {
    "pycharm": {
     "name": "#%%\n"
    }
   },
   "outputs": [],
   "source": [
    "import os\n",
    "import re\n",
    "from typing import Union, Tuple, List, Set\n",
    "\n",
    "import pandas as pd\n",
    "\n",
    "\n",
    "# os.chdir('databases/macroeconomicas/ipeadata')\n",
    "\n",
    "\n",
    "\n",
    "def criar_arquivos_csv(nome_parte_name: Union[str, Tuple[str], List[str], Set[str]] = '') -> 'csv file':\n",
    "    \"\"\"Gera dois arquivos csv com a variável dada como descrição. Aceita Regex\"\"\"\n",
    "    descricao = '|'.join(nome_parte_name) if isinstance(nome_parte_name, tuple) else nome_parte_name\n",
    "    arquivo = re.sub(r'[\\\\w\\d{}?]', '_', ('_ou_'.join(nome_parte_name) if isinstance(nome_parte_name, (tuple, list, set))\n",
    "                                         else nome_parte_name))\n",
    "    ipea_df[ipea_df['NAME'].str.contains(f'{descricao}', case=False, regex=True)].to_csv(\n",
    "        f'variaveis_macroeconomicas_ipeadata_name_{arquivo}.csv', sep=';', index=False)\n",
    "    ipea_df[ipea_df['NAME'].str.contains(f'{descricao}', case=False, regex=True)].to_csv(\n",
    "        f'variaveis_macroeconomicas_ipeadata_codigo_{arquivo}.csv', sep=';', index=False, columns=(\n",
    "            'INDEX', 'CODE', 'NAME'))"
   ]
  },
  {
   "cell_type": "code",
   "execution_count": 25,
   "id": "c0255eaf-2190-48e1-b67b-38f092e11292",
   "metadata": {
    "pycharm": {
     "name": "#%%\n"
    }
   },
   "outputs": [],
   "source": [
    "ipea_df = pd.read_csv('variaveis_macroeconomicas_ipeadata.csv', delimiter=';')"
   ]
  },
  {
   "cell_type": "markdown",
   "id": "9e4e4d95-3693-4a63-a14f-b1e653a8453e",
   "metadata": {
    "pycharm": {
     "name": "#%% md\n"
    }
   },
   "source": [
    "## Criação de csv com renda na coluna NAME"
   ]
  },
  {
   "cell_type": "code",
   "execution_count": 26,
   "id": "bc8beafe-2b0f-48b9-831d-3bce75b4398e",
   "metadata": {
    "pycharm": {
     "name": "#%%\n"
    }
   },
   "outputs": [],
   "source": [
    "criar_arquivos_csv('renda')"
   ]
  },
  {
   "cell_type": "markdown",
   "id": "44c13871-7297-42fa-b46c-2bdaf5d069dc",
   "metadata": {
    "pycharm": {
     "name": "#%% md\n"
    }
   },
   "source": [
    "## Criação de csv com PIB"
   ]
  },
  {
   "cell_type": "code",
   "execution_count": 6,
   "id": "564bd981-1cba-44ea-b2b1-7a19424641a9",
   "metadata": {
    "pycharm": {
     "name": "#%%\n"
    }
   },
   "outputs": [],
   "source": [
    "criar_arquivos_csv('pib')"
   ]
  },
  {
   "cell_type": "markdown",
   "id": "a10ab7be-c628-4153-8304-51b267e2295e",
   "metadata": {
    "pycharm": {
     "name": "#%% md\n"
    }
   },
   "source": [
    "## Criação de csv com Inflaçãoa"
   ]
  },
  {
   "cell_type": "code",
   "execution_count": 22,
   "id": "44707660-abed-4e1f-b3bf-030bb977c9b9",
   "metadata": {
    "pycharm": {
     "name": "#%%\n"
    }
   },
   "outputs": [],
   "source": [
    "criar_arquivos_csv(('infla\\w{2}o', 'ipca'))"
   ]
  },
  {
   "cell_type": "markdown",
   "id": "940bcc92-cc39-4274-a19a-a4828f70e4c0",
   "metadata": {
    "pycharm": {
     "name": "#%% md\n"
    }
   },
   "source": [
    "## Criação de csv com Crescimento"
   ]
  },
  {
   "cell_type": "code",
   "execution_count": 7,
   "id": "9cbf02e8-4a8b-4569-8c91-c3e68eb33e65",
   "metadata": {
    "pycharm": {
     "name": "#%%\n"
    }
   },
   "outputs": [],
   "source": [
    "criar_arquivos_csv('crescimento')"
   ]
  },
  {
   "cell_type": "markdown",
   "id": "9ef0d15a-428b-413b-b34c-6ca8aed9ecc9",
   "metadata": {
    "pycharm": {
     "name": "#%% md\n"
    }
   },
   "source": [
    "## Criação de csv com Preços"
   ]
  },
  {
   "cell_type": "code",
   "execution_count": 31,
   "id": "294defc5-efdf-4db6-a2e9-6c1a7c52c58f",
   "metadata": {
    "pycharm": {
     "name": "#%%\n"
    }
   },
   "outputs": [],
   "source": [
    "criar_arquivos_csv('pre\\wos')"
   ]
  },
  {
   "cell_type": "markdown",
   "id": "82a761f1-c894-4b60-be7c-f5f33f50336e",
   "metadata": {
    "pycharm": {
     "name": "#%% md\n"
    }
   },
   "source": [
    "## Criação de csv com desemprego"
   ]
  },
  {
   "cell_type": "code",
   "execution_count": 9,
   "id": "b1570e58-807b-42fd-8d08-fd34d8dbf3bd",
   "metadata": {
    "pycharm": {
     "name": "#%%\n"
    }
   },
   "outputs": [],
   "source": [
    "criar_arquivos_csv('desemprego')"
   ]
  },
  {
   "cell_type": "markdown",
   "id": "a983338a-9823-42a6-b258-642053b7ed88",
   "metadata": {
    "pycharm": {
     "name": "#%% md\n"
    }
   },
   "source": [
    "# Plotagens das variáveis"
   ]
  },
  {
   "cell_type": "code",
   "execution_count": null,
   "id": "146c5d42-2afd-4334-a6b5-d809018398f7",
   "metadata": {
    "pycharm": {
     "name": "#%%\n"
    }
   },
   "outputs": [],
   "source": []
  }
 ],
 "metadata": {
  "kernelspec": {
   "display_name": "Python 3 (ipykernel)",
   "language": "python",
   "name": "python3"
  },
  "language_info": {
   "codemirror_mode": {
    "name": "ipython",
    "version": 3
   },
   "file_extension": ".py",
   "mimetype": "text/x-python",
   "name": "python",
   "nbconvert_exporter": "python",
   "pygments_lexer": "ipython3",
   "version": "3.10.4"
  }
 },
 "nbformat": 4,
 "nbformat_minor": 5
}