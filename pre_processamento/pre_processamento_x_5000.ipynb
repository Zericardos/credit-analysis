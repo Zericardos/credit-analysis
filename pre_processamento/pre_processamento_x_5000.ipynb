{
 "cells": [
  {
   "cell_type": "markdown",
   "source": [
    "# Importações"
   ],
   "metadata": {
    "collapsed": false,
    "pycharm": {
     "name": "#%% md\n"
    }
   }
  },
  {
   "cell_type": "code",
   "execution_count": 186,
   "outputs": [],
   "source": [
    "import seaborn as sns\n",
    "import matplotlib.pyplot as plt\n",
    "import numpy as np\n",
    "import pandas as pd\n",
    "from sklearn.model_selection import train_test_split\n",
    "from sklearn.linear_model import LogisticRegression\n",
    "from sklearn.metrics import classification_report, confusion_matrix, ConfusionMatrixDisplay, roc_curve, roc_auc_score"
   ],
   "metadata": {
    "collapsed": false,
    "pycharm": {
     "name": "#%%\n"
    }
   }
  },
  {
   "cell_type": "code",
   "execution_count": 106,
   "outputs": [
    {
     "name": "stdout",
     "output_type": "stream",
     "text": [
      "Número de variáveis de x: 21\n",
      "\n",
      "Variáveis de x : Index(['MONTH', 'INDICE_CONDICOES_ECONOMICAS_ATUAIS', 'IPCA_INDICE_GERAL',\n",
      "       'IPCA_TAXA_VARIACAO', 'PIB', 'TAXAS_DESEMPREGO', 'uf', 'tcb', 'sr',\n",
      "       'cliente', 'ocupacao', 'cnae_secao', 'cnae_subclasse', 'porte',\n",
      "       'modalidade', 'origem', 'indexador', 'numero_de_operacoes',\n",
      "       'carteira_ativa', 'carteira_inadimplida_arrastada',\n",
      "       'ativo_problematico'],\n",
      "      dtype='object')\n",
      "\n"
     ]
    },
    {
     "data": {
      "text/plain": "   MONTH  INDICE_CONDICOES_ECONOMICAS_ATUAIS  IPCA_INDICE_GERAL  \\\n0      1                              105.78            5331.42   \n1      1                              105.78            5331.42   \n2      1                              105.78            5331.42   \n3      1                              105.78            5331.42   \n4      1                              105.78            5331.42   \n\n   IPCA_TAXA_VARIACAO       PIB  TAXAS_DESEMPREGO  uf           tcb  sr  \\\n0                0.21  617747.2               3.2  AC      Bancário  S1   \n1                0.21  617747.2               3.2  AC      Bancário  S1   \n2                0.21  617747.2               3.2  AC  Não bancário  S4   \n3                0.21  617747.2               3.2  AL      Bancário  S1   \n4                0.21  617747.2               3.2  AL      Bancário  S2   \n\n  cliente                            ocupacao  \\\n0      PF  PF - Servidor ou empregado público   \n1      PJ                                   -   \n2      PF                         PF - Outros   \n3      PJ                                   -   \n4      PJ                                   -   \n\n                                                        cnae_secao  \\\n0                                                                -   \n1  PJ - Comércio; reparação de veículos automotores e motocicletas   \n2                                                                -   \n3                                    PJ - Informação e comunicação   \n4  PJ - Comércio; reparação de veículos automotores e motocicletas   \n\n                                                                                                                        cnae_subclasse  \\\n0                                                                                                                                    -   \n1  PJ - Comércio varejista de produtos alimentícios em geral ou especializado em produtos alimentícios não especificados anteriormente   \n2                                                                                                                                    -   \n3                                                                                                             PJ - Atividades de rádio   \n4                                                                                 PJ - Comércio varejista de medicamentos veterinários   \n\n                                           porte  \\\n0  PF - Mais de 1 a 2 salários mínimos             \n1  PJ - Médio                                      \n2  PF - Acima de 20 salários mínimos               \n3  PJ - Pequeno                                    \n4  PJ - Médio                                      \n\n                                                                       modalidade  \\\n0                                                            PF - Outros créditos   \n1                                                   PJ - Capital de giro rotativo   \n2                                                          PF - Cartão de crédito   \n3  PJ - Financiamento de infraestrutura/desenvolvimento/projeto e outros créditos   \n4                                                   PJ - Operações com recebíveis   \n\n                      origem   indexador  numero_de_operacoes  \\\n0  Com destinação específica   Prefixado                    8   \n1  Sem destinação específica   Prefixado                    8   \n2  Sem destinação específica   Prefixado                   95   \n3  Com destinação específica  Pós-fixado                    8   \n4  Sem destinação específica   Prefixado                    8   \n\n  vencido_acima_de_15_dias_refatorada  carteira_ativa  \\\n0                          Adimplente         1063.22   \n1                        Inadimplente        82277.18   \n2                        Inadimplente        87590.65   \n3                          Adimplente        30602.94   \n4                          Adimplente       127421.30   \n\n   carteira_inadimplida_arrastada  ativo_problematico  \n0                            0.00                0.00  \n1                            0.00                0.00  \n2                         2966.47             2966.47  \n3                            0.00                0.00  \n4                            0.00                0.00  ",
      "text/html": "<div>\n<style scoped>\n    .dataframe tbody tr th:only-of-type {\n        vertical-align: middle;\n    }\n\n    .dataframe tbody tr th {\n        vertical-align: top;\n    }\n\n    .dataframe thead th {\n        text-align: right;\n    }\n</style>\n<table border=\"1\" class=\"dataframe\">\n  <thead>\n    <tr style=\"text-align: right;\">\n      <th></th>\n      <th>MONTH</th>\n      <th>INDICE_CONDICOES_ECONOMICAS_ATUAIS</th>\n      <th>IPCA_INDICE_GERAL</th>\n      <th>IPCA_TAXA_VARIACAO</th>\n      <th>PIB</th>\n      <th>TAXAS_DESEMPREGO</th>\n      <th>uf</th>\n      <th>tcb</th>\n      <th>sr</th>\n      <th>cliente</th>\n      <th>ocupacao</th>\n      <th>cnae_secao</th>\n      <th>cnae_subclasse</th>\n      <th>porte</th>\n      <th>modalidade</th>\n      <th>origem</th>\n      <th>indexador</th>\n      <th>numero_de_operacoes</th>\n      <th>vencido_acima_de_15_dias_refatorada</th>\n      <th>carteira_ativa</th>\n      <th>carteira_inadimplida_arrastada</th>\n      <th>ativo_problematico</th>\n    </tr>\n  </thead>\n  <tbody>\n    <tr>\n      <th>0</th>\n      <td>1</td>\n      <td>105.78</td>\n      <td>5331.42</td>\n      <td>0.21</td>\n      <td>617747.2</td>\n      <td>3.2</td>\n      <td>AC</td>\n      <td>Bancário</td>\n      <td>S1</td>\n      <td>PF</td>\n      <td>PF - Servidor ou empregado público</td>\n      <td>-</td>\n      <td>-</td>\n      <td>PF - Mais de 1 a 2 salários mínimos</td>\n      <td>PF - Outros créditos</td>\n      <td>Com destinação específica</td>\n      <td>Prefixado</td>\n      <td>8</td>\n      <td>Adimplente</td>\n      <td>1063.22</td>\n      <td>0.00</td>\n      <td>0.00</td>\n    </tr>\n    <tr>\n      <th>1</th>\n      <td>1</td>\n      <td>105.78</td>\n      <td>5331.42</td>\n      <td>0.21</td>\n      <td>617747.2</td>\n      <td>3.2</td>\n      <td>AC</td>\n      <td>Bancário</td>\n      <td>S1</td>\n      <td>PJ</td>\n      <td>-</td>\n      <td>PJ - Comércio; reparação de veículos automotores e motocicletas</td>\n      <td>PJ - Comércio varejista de produtos alimentícios em geral ou especializado em produtos alimentícios não especificados anteriormente</td>\n      <td>PJ - Médio</td>\n      <td>PJ - Capital de giro rotativo</td>\n      <td>Sem destinação específica</td>\n      <td>Prefixado</td>\n      <td>8</td>\n      <td>Inadimplente</td>\n      <td>82277.18</td>\n      <td>0.00</td>\n      <td>0.00</td>\n    </tr>\n    <tr>\n      <th>2</th>\n      <td>1</td>\n      <td>105.78</td>\n      <td>5331.42</td>\n      <td>0.21</td>\n      <td>617747.2</td>\n      <td>3.2</td>\n      <td>AC</td>\n      <td>Não bancário</td>\n      <td>S4</td>\n      <td>PF</td>\n      <td>PF - Outros</td>\n      <td>-</td>\n      <td>-</td>\n      <td>PF - Acima de 20 salários mínimos</td>\n      <td>PF - Cartão de crédito</td>\n      <td>Sem destinação específica</td>\n      <td>Prefixado</td>\n      <td>95</td>\n      <td>Inadimplente</td>\n      <td>87590.65</td>\n      <td>2966.47</td>\n      <td>2966.47</td>\n    </tr>\n    <tr>\n      <th>3</th>\n      <td>1</td>\n      <td>105.78</td>\n      <td>5331.42</td>\n      <td>0.21</td>\n      <td>617747.2</td>\n      <td>3.2</td>\n      <td>AL</td>\n      <td>Bancário</td>\n      <td>S1</td>\n      <td>PJ</td>\n      <td>-</td>\n      <td>PJ - Informação e comunicação</td>\n      <td>PJ - Atividades de rádio</td>\n      <td>PJ - Pequeno</td>\n      <td>PJ - Financiamento de infraestrutura/desenvolvimento/projeto e outros créditos</td>\n      <td>Com destinação específica</td>\n      <td>Pós-fixado</td>\n      <td>8</td>\n      <td>Adimplente</td>\n      <td>30602.94</td>\n      <td>0.00</td>\n      <td>0.00</td>\n    </tr>\n    <tr>\n      <th>4</th>\n      <td>1</td>\n      <td>105.78</td>\n      <td>5331.42</td>\n      <td>0.21</td>\n      <td>617747.2</td>\n      <td>3.2</td>\n      <td>AL</td>\n      <td>Bancário</td>\n      <td>S2</td>\n      <td>PJ</td>\n      <td>-</td>\n      <td>PJ - Comércio; reparação de veículos automotores e motocicletas</td>\n      <td>PJ - Comércio varejista de medicamentos veterinários</td>\n      <td>PJ - Médio</td>\n      <td>PJ - Operações com recebíveis</td>\n      <td>Sem destinação específica</td>\n      <td>Prefixado</td>\n      <td>8</td>\n      <td>Adimplente</td>\n      <td>127421.30</td>\n      <td>0.00</td>\n      <td>0.00</td>\n    </tr>\n  </tbody>\n</table>\n</div>"
     },
     "execution_count": 106,
     "metadata": {},
     "output_type": "execute_result"
    }
   ],
   "source": [
    "df = pd.read_csv('../df_teste_5000.csv', delimiter=';')\n",
    "print(f\"Número de variáveis de x: {len(df.columns) - 1}\")\n",
    "print(f\"\\nVariáveis de x : {df.loc[:, df.columns != 'vencido_acima_de_15_dias_refatorada'].columns}\\n\")\n",
    "df.head()"
   ],
   "metadata": {
    "collapsed": false,
    "pycharm": {
     "name": "#%%\n"
    }
   }
  },
  {
   "cell_type": "code",
   "execution_count": 108,
   "outputs": [
    {
     "name": "stdout",
     "output_type": "stream",
     "text": [
      "<class 'pandas.core.frame.DataFrame'>\n",
      "RangeIndex: 5006 entries, 0 to 5005\n",
      "Data columns (total 22 columns):\n",
      " #   Column                               Non-Null Count  Dtype  \n",
      "---  ------                               --------------  -----  \n",
      " 0   MONTH                                5006 non-null   int64  \n",
      " 1   INDICE_CONDICOES_ECONOMICAS_ATUAIS   5006 non-null   float64\n",
      " 2   IPCA_INDICE_GERAL                    5006 non-null   float64\n",
      " 3   IPCA_TAXA_VARIACAO                   5006 non-null   float64\n",
      " 4   PIB                                  5006 non-null   float64\n",
      " 5   TAXAS_DESEMPREGO                     5006 non-null   float64\n",
      " 6   uf                                   5006 non-null   object \n",
      " 7   tcb                                  5006 non-null   object \n",
      " 8   sr                                   4988 non-null   object \n",
      " 9   cliente                              5006 non-null   object \n",
      " 10  ocupacao                             5006 non-null   object \n",
      " 11  cnae_secao                           5006 non-null   object \n",
      " 12  cnae_subclasse                       5006 non-null   object \n",
      " 13  porte                                5006 non-null   object \n",
      " 14  modalidade                           5006 non-null   object \n",
      " 15  origem                               5006 non-null   object \n",
      " 16  indexador                            5006 non-null   object \n",
      " 17  numero_de_operacoes                  5006 non-null   int64  \n",
      " 18  vencido_acima_de_15_dias_refatorada  5006 non-null   object \n",
      " 19  carteira_ativa                       5006 non-null   float64\n",
      " 20  carteira_inadimplida_arrastada       5006 non-null   float64\n",
      " 21  ativo_problematico                   5006 non-null   float64\n",
      "dtypes: float64(8), int64(2), object(12)\n",
      "memory usage: 860.5+ KB\n"
     ]
    }
   ],
   "source": [
    "df.info()"
   ],
   "metadata": {
    "collapsed": false,
    "pycharm": {
     "name": "#%%\n"
    }
   }
  },
  {
   "cell_type": "markdown",
   "source": [
    "## Criação de variáveis auxiliares"
   ],
   "metadata": {
    "collapsed": false,
    "pycharm": {
     "name": "#%% md\n"
    }
   }
  },
  {
   "cell_type": "code",
   "execution_count": 109,
   "outputs": [],
   "source": [
    "col_variaveis = df.columns[:-1]\n",
    "variaveis_numericas = df[col_variaveis].select_dtypes(include=np.number).columns\n",
    "variaveis_categoricas = df[col_variaveis].select_dtypes(exclude=np.number).columns\n",
    "col_y = df.columns[-1]"
   ],
   "metadata": {
    "collapsed": false,
    "pycharm": {
     "name": "#%%\n"
    }
   }
  },
  {
   "cell_type": "markdown",
   "source": [
    "## Verificação de valores nulos"
   ],
   "metadata": {
    "collapsed": false,
    "pycharm": {
     "name": "#%% md\n"
    }
   }
  },
  {
   "cell_type": "code",
   "execution_count": null,
   "outputs": [],
   "source": [
    "sns.heatmap(df[col_variaveis].isnull(), cbar=False)"
   ],
   "metadata": {
    "collapsed": false,
    "pycharm": {
     "name": "#%%\n"
    }
   }
  },
  {
   "cell_type": "markdown",
   "source": [
    "Há poucas observações, cerca de 15, apenas na variável **sr**"
   ],
   "metadata": {
    "collapsed": false,
    "pycharm": {
     "name": "#%% md\n"
    }
   }
  },
  {
   "cell_type": "markdown",
   "source": [
    "## Plotagem de gráficos de distribuição de observações em relação ao vencimento ou não de crédito"
   ],
   "metadata": {
    "collapsed": false,
    "pycharm": {
     "name": "#%% md\n"
    }
   }
  },
  {
   "cell_type": "code",
   "execution_count": null,
   "outputs": [],
   "source": [
    "plt.figure(figsize=(21,10))\n",
    "sns.countplot(data=df, x='vencido_acima_de_15_dias_refatorada', hue=col_variaveis[0])"
   ],
   "metadata": {
    "collapsed": false,
    "pycharm": {
     "name": "#%%\n"
    }
   }
  },
  {
   "cell_type": "code",
   "execution_count": null,
   "outputs": [],
   "source": [
    "plt.figure(figsize=(21,10))\n",
    "sns.countplot(data=df, x='vencido_acima_de_15_dias_refatorada', hue=col_variaveis[1])"
   ],
   "metadata": {
    "collapsed": false,
    "pycharm": {
     "name": "#%%\n"
    }
   }
  },
  {
   "cell_type": "code",
   "execution_count": null,
   "outputs": [],
   "source": [
    "plt.figure(figsize=(21,10))\n",
    "sns.countplot(data=df, x='vencido_acima_de_15_dias_refatorada', hue=col_variaveis[2])"
   ],
   "metadata": {
    "collapsed": false,
    "pycharm": {
     "name": "#%%\n"
    }
   }
  },
  {
   "cell_type": "code",
   "execution_count": null,
   "outputs": [],
   "source": [
    "plt.figure(figsize=(21,10))\n",
    "sns.countplot(data=df, x='vencido_acima_de_15_dias_refatorada', hue=col_variaveis[3])"
   ],
   "metadata": {
    "collapsed": false,
    "pycharm": {
     "name": "#%%\n"
    }
   }
  },
  {
   "cell_type": "code",
   "execution_count": null,
   "outputs": [],
   "source": [
    "plt.figure(figsize=(21,10))\n",
    "sns.countplot(data=df, x='vencido_acima_de_15_dias_refatorada', hue=col_variaveis[4])"
   ],
   "metadata": {
    "collapsed": false,
    "pycharm": {
     "name": "#%%\n"
    }
   }
  },
  {
   "cell_type": "code",
   "execution_count": null,
   "outputs": [],
   "source": [
    "plt.figure(figsize=(21,10))\n",
    "sns.countplot(data=df, x='vencido_acima_de_15_dias_refatorada', hue=col_variaveis[5])"
   ],
   "metadata": {
    "collapsed": false,
    "pycharm": {
     "name": "#%%\n"
    }
   }
  },
  {
   "cell_type": "code",
   "execution_count": null,
   "outputs": [],
   "source": [
    "plt.figure(figsize=(21,10))\n",
    "sns.countplot(data=df, x='vencido_acima_de_15_dias_refatorada', hue=col_variaveis[6])"
   ],
   "metadata": {
    "collapsed": false,
    "pycharm": {
     "name": "#%%\n"
    }
   }
  },
  {
   "cell_type": "code",
   "execution_count": null,
   "outputs": [],
   "source": [
    "plt.figure(figsize=(21,10))\n",
    "sns.countplot(data=df, x='vencido_acima_de_15_dias_refatorada', hue=col_variaveis[7])"
   ],
   "metadata": {
    "collapsed": false,
    "pycharm": {
     "name": "#%%\n"
    }
   }
  },
  {
   "cell_type": "code",
   "execution_count": null,
   "outputs": [],
   "source": [
    "plt.figure(figsize=(21,10))\n",
    "sns.countplot(data=df, x='vencido_acima_de_15_dias_refatorada', hue=col_variaveis[8])"
   ],
   "metadata": {
    "collapsed": false,
    "pycharm": {
     "name": "#%%\n"
    }
   }
  },
  {
   "cell_type": "code",
   "execution_count": null,
   "outputs": [],
   "source": [
    "plt.figure(figsize=(21,10))\n",
    "sns.countplot(data=df, x='vencido_acima_de_15_dias_refatorada', hue=col_variaveis[9])"
   ],
   "metadata": {
    "collapsed": false,
    "pycharm": {
     "name": "#%%\n"
    }
   }
  },
  {
   "cell_type": "code",
   "execution_count": null,
   "outputs": [],
   "source": [
    "plt.figure(figsize=(21,10))\n",
    "sns.countplot(data=df, x='vencido_acima_de_15_dias_refatorada', hue=col_variaveis[10])"
   ],
   "metadata": {
    "collapsed": false,
    "pycharm": {
     "name": "#%%\n"
    }
   }
  },
  {
   "cell_type": "code",
   "execution_count": null,
   "outputs": [],
   "source": [
    "plt.figure(figsize=(21,10))\n",
    "sns.countplot(data=df, x='vencido_acima_de_15_dias_refatorada', hue=col_variaveis[11])"
   ],
   "metadata": {
    "collapsed": false,
    "pycharm": {
     "name": "#%%\n"
    }
   }
  },
  {
   "cell_type": "markdown",
   "source": [
    "## Executar as células abaixo pode impactar severamente o desempenho da máquina.\n",
    " - O resultado é uniforme para todas as categorias cnae_subclasse\n",
    " - Nenhuma categoria de qualquer variável impacta, isoladamente e significamentivamente, a variável **vencido_acima_de_15_dias**"
   ],
   "metadata": {
    "collapsed": false,
    "pycharm": {
     "name": "#%% md\n"
    }
   }
  },
  {
   "cell_type": "code",
   "execution_count": null,
   "outputs": [],
   "source": [
    "plt.figure(figsize=(21,10))\n",
    "sns.countplot(data=df, x='vencido_acima_de_15_dias_refatorada', hue=col_variaveis[12])"
   ],
   "metadata": {
    "collapsed": false,
    "pycharm": {
     "name": "#%%\n"
    }
   }
  },
  {
   "cell_type": "code",
   "execution_count": null,
   "outputs": [],
   "source": [
    "plt.figure(figsize=(21,10))\n",
    "sns.countplot(data=df, x='vencido_acima_de_15_dias_refatorada', hue=col_variaveis[13])"
   ],
   "metadata": {
    "collapsed": false,
    "pycharm": {
     "name": "#%%\n"
    }
   }
  },
  {
   "cell_type": "code",
   "execution_count": null,
   "outputs": [],
   "source": [
    "plt.figure(figsize=(21,10))\n",
    "sns.countplot(data=df, x='vencido_acima_de_15_dias_refatorada', hue=col_variaveis[14])"
   ],
   "metadata": {
    "collapsed": false,
    "pycharm": {
     "name": "#%%\n",
     "is_executing": true
    }
   }
  },
  {
   "cell_type": "code",
   "execution_count": null,
   "outputs": [],
   "source": [
    "plt.figure(figsize=(21,10))\n",
    "sns.countplot(data=df, x='vencido_acima_de_15_dias_refatorada', hue=col_variaveis[15])"
   ],
   "metadata": {
    "collapsed": false,
    "pycharm": {
     "name": "#%%\n",
     "is_executing": true
    }
   }
  },
  {
   "cell_type": "code",
   "execution_count": null,
   "outputs": [],
   "source": [
    "plt.figure(figsize=(21,10))\n",
    "sns.countplot(data=df, x='vencido_acima_de_15_dias_refatorada', hue=col_variaveis[16])"
   ],
   "metadata": {
    "collapsed": false,
    "pycharm": {
     "name": "#%%\n",
     "is_executing": true
    }
   }
  },
  {
   "cell_type": "code",
   "execution_count": null,
   "outputs": [],
   "source": [
    "plt.figure(figsize=(21,10))\n",
    "sns.countplot(data=df, x='vencido_acima_de_15_dias_refatorada', hue=col_variaveis[17])"
   ],
   "metadata": {
    "collapsed": false,
    "pycharm": {
     "name": "#%%\n",
     "is_executing": true
    }
   }
  },
  {
   "cell_type": "code",
   "execution_count": null,
   "outputs": [],
   "source": [
    "plt.figure(figsize=(21,10))\n",
    "sns.countplot(data=df, x='vencido_acima_de_15_dias_refatorada', hue=col_variaveis[18])"
   ],
   "metadata": {
    "collapsed": false,
    "pycharm": {
     "name": "#%%\n"
    }
   }
  },
  {
   "cell_type": "code",
   "execution_count": null,
   "outputs": [],
   "source": [
    "plt.figure(figsize=(21,10))\n",
    "sns.countplot(data=df, x='vencido_acima_de_15_dias_refatorada', hue=col_variaveis[19])"
   ],
   "metadata": {
    "collapsed": false,
    "pycharm": {
     "name": "#%%\n"
    }
   }
  },
  {
   "cell_type": "code",
   "execution_count": null,
   "outputs": [],
   "source": [
    "plt.figure(figsize=(21,10))\n",
    "sns.countplot(data=df, x='vencido_acima_de_15_dias_refatorada', hue=col_variaveis[20])"
   ],
   "metadata": {
    "collapsed": false,
    "pycharm": {
     "name": "#%%\n"
    }
   }
  },
  {
   "cell_type": "code",
   "execution_count": null,
   "outputs": [],
   "source": [
    "col_variaveis[18]"
   ],
   "metadata": {
    "collapsed": false,
    "pycharm": {
     "name": "#%%\n"
    }
   }
  },
  {
   "cell_type": "code",
   "execution_count": 112,
   "outputs": [
    {
     "name": "stdout",
     "output_type": "stream",
     "text": [
      "Variáveis X, anterior a dummizacao: Index(['MONTH', 'INDICE_CONDICOES_ECONOMICAS_ATUAIS', 'IPCA_INDICE_GERAL',\n",
      "       'IPCA_TAXA_VARIACAO', 'PIB', 'TAXAS_DESEMPREGO', 'uf', 'tcb', 'sr',\n",
      "       'cliente', 'ocupacao', 'cnae_secao', 'cnae_subclasse', 'porte',\n",
      "       'modalidade', 'origem', 'indexador', 'numero_de_operacoes',\n",
      "       'carteira_ativa', 'carteira_inadimplida_arrastada',\n",
      "       'ativo_problematico'],\n",
      "      dtype='object')\n",
      "Variáveis Y: Index(['vencido_acima_de_15_dias_refatorada'], dtype='object')\n",
      "Total de variáveis X: 21\n"
     ]
    }
   ],
   "source": [
    "df.dropna(inplace=True)\n",
    "x_data, y_data = df.loc[:, df.columns != 'vencido_acima_de_15_dias_refatorada'], df.loc[:, df.columns == 'vencido_acima_de_15_dias_refatorada']\n",
    "print(f'Variáveis X, anterior a dummizacao: {x_data.columns}\\nVariáveis Y: {y_data.columns}')\n",
    "print(f\"Total de variáveis X: {len(x_data.columns)}\")"
   ],
   "metadata": {
    "collapsed": false,
    "pycharm": {
     "name": "#%%\n"
    }
   }
  },
  {
   "cell_type": "code",
   "execution_count": 113,
   "outputs": [
    {
     "name": "stdout",
     "output_type": "stream",
     "text": [
      "Variáveis X, após a dummização: Index(['MONTH', 'INDICE_CONDICOES_ECONOMICAS_ATUAIS', 'IPCA_INDICE_GERAL',\n",
      "       'IPCA_TAXA_VARIACAO', 'PIB', 'TAXAS_DESEMPREGO', 'numero_de_operacoes',\n",
      "       'carteira_ativa', 'carteira_inadimplida_arrastada',\n",
      "       'ativo_problematico',\n",
      "       ...\n",
      "       'modalidade_PJ - Investimento',\n",
      "       'modalidade_PJ - Operações com recebíveis',\n",
      "       'modalidade_PJ - Outros créditos',\n",
      "       'modalidade_PJ - Rural e agroindustrial',\n",
      "       'origem_Sem destinação específica', 'indexador_Outros indexadores',\n",
      "       'indexador_Prefixado', 'indexador_Pós-fixado', 'indexador_TCR/TRFC',\n",
      "       'indexador_Índices de preços'],\n",
      "      dtype='object', length=941)\n",
      "\n",
      "Total de variáveis X: 941\n"
     ]
    }
   ],
   "source": [
    "x_data_dummy = pd.get_dummies(data=x_data, drop_first=True)\n",
    "x_data_dummy.head()\n",
    "print(f'Variáveis X, após a dummização: {x_data_dummy.columns}\\n')\n",
    "print(f\"Total de variáveis X: {len(x_data_dummy.columns)}\")"
   ],
   "metadata": {
    "collapsed": false,
    "pycharm": {
     "name": "#%%\n"
    }
   }
  },
  {
   "cell_type": "code",
   "execution_count": 114,
   "outputs": [
    {
     "name": "stdout",
     "output_type": "stream",
     "text": [
      "Totais de observações: 4988\n",
      "x_treino: 3491\n",
      "y_treino: 3491\n",
      "x_teste: 1497\n",
      "y_teste: 1497\n"
     ]
    }
   ],
   "source": [
    "x_treino, x_teste, y_treino, y_teste = train_test_split(x_data_dummy, y_data, test_size=.3, random_state=2)\n",
    "print(f\"Totais de observações: {len(x_treino) + len(x_teste)}\\nx_treino: {len(x_treino)}\\ny_treino: {len(y_treino)}\\nx_teste: {len(x_teste)}\\ny_teste: {len(y_teste)}\")"
   ],
   "metadata": {
    "collapsed": false,
    "pycharm": {
     "name": "#%%\n"
    }
   }
  },
  {
   "cell_type": "markdown",
   "source": [
    "## Iniciando o treinamento do modelo logístico simples"
   ],
   "metadata": {
    "collapsed": false,
    "pycharm": {
     "name": "#%% md\n"
    }
   }
  },
  {
   "cell_type": "code",
   "execution_count": 159,
   "outputs": [
    {
     "data": {
      "text/plain": "LogisticRegression(multi_class='ovr')",
      "text/html": "<style>#sk-container-id-6 {color: black;background-color: white;}#sk-container-id-6 pre{padding: 0;}#sk-container-id-6 div.sk-toggleable {background-color: white;}#sk-container-id-6 label.sk-toggleable__label {cursor: pointer;display: block;width: 100%;margin-bottom: 0;padding: 0.3em;box-sizing: border-box;text-align: center;}#sk-container-id-6 label.sk-toggleable__label-arrow:before {content: \"▸\";float: left;margin-right: 0.25em;color: #696969;}#sk-container-id-6 label.sk-toggleable__label-arrow:hover:before {color: black;}#sk-container-id-6 div.sk-estimator:hover label.sk-toggleable__label-arrow:before {color: black;}#sk-container-id-6 div.sk-toggleable__content {max-height: 0;max-width: 0;overflow: hidden;text-align: left;background-color: #f0f8ff;}#sk-container-id-6 div.sk-toggleable__content pre {margin: 0.2em;color: black;border-radius: 0.25em;background-color: #f0f8ff;}#sk-container-id-6 input.sk-toggleable__control:checked~div.sk-toggleable__content {max-height: 200px;max-width: 100%;overflow: auto;}#sk-container-id-6 input.sk-toggleable__control:checked~label.sk-toggleable__label-arrow:before {content: \"▾\";}#sk-container-id-6 div.sk-estimator input.sk-toggleable__control:checked~label.sk-toggleable__label {background-color: #d4ebff;}#sk-container-id-6 div.sk-label input.sk-toggleable__control:checked~label.sk-toggleable__label {background-color: #d4ebff;}#sk-container-id-6 input.sk-hidden--visually {border: 0;clip: rect(1px 1px 1px 1px);clip: rect(1px, 1px, 1px, 1px);height: 1px;margin: -1px;overflow: hidden;padding: 0;position: absolute;width: 1px;}#sk-container-id-6 div.sk-estimator {font-family: monospace;background-color: #f0f8ff;border: 1px dotted black;border-radius: 0.25em;box-sizing: border-box;margin-bottom: 0.5em;}#sk-container-id-6 div.sk-estimator:hover {background-color: #d4ebff;}#sk-container-id-6 div.sk-parallel-item::after {content: \"\";width: 100%;border-bottom: 1px solid gray;flex-grow: 1;}#sk-container-id-6 div.sk-label:hover label.sk-toggleable__label {background-color: #d4ebff;}#sk-container-id-6 div.sk-serial::before {content: \"\";position: absolute;border-left: 1px solid gray;box-sizing: border-box;top: 0;bottom: 0;left: 50%;z-index: 0;}#sk-container-id-6 div.sk-serial {display: flex;flex-direction: column;align-items: center;background-color: white;padding-right: 0.2em;padding-left: 0.2em;position: relative;}#sk-container-id-6 div.sk-item {position: relative;z-index: 1;}#sk-container-id-6 div.sk-parallel {display: flex;align-items: stretch;justify-content: center;background-color: white;position: relative;}#sk-container-id-6 div.sk-item::before, #sk-container-id-6 div.sk-parallel-item::before {content: \"\";position: absolute;border-left: 1px solid gray;box-sizing: border-box;top: 0;bottom: 0;left: 50%;z-index: -1;}#sk-container-id-6 div.sk-parallel-item {display: flex;flex-direction: column;z-index: 1;position: relative;background-color: white;}#sk-container-id-6 div.sk-parallel-item:first-child::after {align-self: flex-end;width: 50%;}#sk-container-id-6 div.sk-parallel-item:last-child::after {align-self: flex-start;width: 50%;}#sk-container-id-6 div.sk-parallel-item:only-child::after {width: 0;}#sk-container-id-6 div.sk-dashed-wrapped {border: 1px dashed gray;margin: 0 0.4em 0.5em 0.4em;box-sizing: border-box;padding-bottom: 0.4em;background-color: white;}#sk-container-id-6 div.sk-label label {font-family: monospace;font-weight: bold;display: inline-block;line-height: 1.2em;}#sk-container-id-6 div.sk-label-container {text-align: center;}#sk-container-id-6 div.sk-container {/* jupyter's `normalize.less` sets `[hidden] { display: none; }` but bootstrap.min.css set `[hidden] { display: none !important; }` so we also need the `!important` here to be able to override the default hidden behavior on the sphinx rendered scikit-learn.org. See: https://github.com/scikit-learn/scikit-learn/issues/21755 */display: inline-block !important;position: relative;}#sk-container-id-6 div.sk-text-repr-fallback {display: none;}</style><div id=\"sk-container-id-6\" class=\"sk-top-container\"><div class=\"sk-text-repr-fallback\"><pre>LogisticRegression(multi_class=&#x27;ovr&#x27;)</pre><b>In a Jupyter environment, please rerun this cell to show the HTML representation or trust the notebook. <br />On GitHub, the HTML representation is unable to render, please try loading this page with nbviewer.org.</b></div><div class=\"sk-container\" hidden><div class=\"sk-item\"><div class=\"sk-estimator sk-toggleable\"><input class=\"sk-toggleable__control sk-hidden--visually\" id=\"sk-estimator-id-6\" type=\"checkbox\" checked><label for=\"sk-estimator-id-6\" class=\"sk-toggleable__label sk-toggleable__label-arrow\">LogisticRegression</label><div class=\"sk-toggleable__content\"><pre>LogisticRegression(multi_class=&#x27;ovr&#x27;)</pre></div></div></div></div></div>"
     },
     "execution_count": 159,
     "metadata": {},
     "output_type": "execute_result"
    }
   ],
   "source": [
    "modelo_simples = LogisticRegression(multi_class='ovr')\n",
    "modelo_simples.fit(x_treino, y_treino.values.ravel())"
   ],
   "metadata": {
    "collapsed": false,
    "pycharm": {
     "name": "#%%\n"
    }
   }
  },
  {
   "cell_type": "code",
   "execution_count": 175,
   "outputs": [],
   "source": [
    "y_predicoes, y_prob_pred = modelo_simples.predict(x_teste), modelo_simples.predict_proba(x_teste)[:, 1]"
   ],
   "metadata": {
    "collapsed": false,
    "pycharm": {
     "name": "#%%\n"
    }
   }
  },
  {
   "cell_type": "code",
   "execution_count": 161,
   "outputs": [
    {
     "data": {
      "text/plain": "<Figure size 640x480 with 2 Axes>",
      "image/png": "[encoded data removed]"
     },
     "metadata": {},
     "output_type": "display_data"
    }
   ],
   "source": [
    "confusionmatrix = confusion_matrix(y_teste, y_predicoes, labels=modelo_simples.classes_)\n",
    "display = ConfusionMatrixDisplay(confusion_matrix=confusionmatrix, display_labels=modelo_simples.classes_)\n",
    "display.plot()\n",
    "plt.grid(False)\n",
    "plt.show()"
   ],
   "metadata": {
    "collapsed": false,
    "pycharm": {
     "name": "#%%\n"
    }
   }
  },
  {
   "cell_type": "code",
   "execution_count": 162,
   "outputs": [
    {
     "name": "stdout",
     "output_type": "stream",
     "text": [
      "              precision    recall  f1-score   support\n",
      "\n",
      "  Adimplente       0.86      1.00      0.92       969\n",
      "Inadimplente       0.99      0.71      0.83       528\n",
      "\n",
      "    accuracy                           0.90      1497\n",
      "   macro avg       0.93      0.85      0.88      1497\n",
      "weighted avg       0.91      0.90      0.89      1497\n",
      "\n",
      "Acurácia:       89.51%\n",
      "Sensitividade:  70.64%\n",
      "Especificidade: 99.79%\n"
     ]
    }
   ],
   "source": [
    "classificacoes = classification_report(y_teste, y_predicoes, output_dict=True)\n",
    "print(classification_report(y_teste, y_predicoes))\n",
    "print(f'Acurácia: {classificacoes[\"accuracy\"]*100:>11.2f}%\\nSensitividade: {classificacoes[\"Inadimplente\"][\"recall\"]*100:6.2f}%\\nEspecificidade: {classificacoes[\"Adimplente\"][\"recall\"]*100:.2f}%')"
   ],
   "metadata": {
    "collapsed": false,
    "pycharm": {
     "name": "#%%\n"
    }
   }
  },
  {
   "cell_type": "code",
   "execution_count": 176,
   "outputs": [
    {
     "name": "stdout",
     "output_type": "stream",
     "text": [
      "[0.12114209 1.         0.14570102 ... 0.14570117 0.11916739 0.1303879 ]\n"
     ]
    }
   ],
   "source": [
    "print(y_prob_pred)"
   ],
   "metadata": {
    "collapsed": false,
    "pycharm": {
     "name": "#%%\n"
    }
   }
  },
  {
   "cell_type": "code",
   "execution_count": 188,
   "outputs": [],
   "source": [
    "fpr, tpr, thresholds = roc_curve(y_teste, y_prob_pred, pos_label='Inadimplente')"
   ],
   "metadata": {
    "collapsed": false,
    "pycharm": {
     "name": "#%%\n"
    }
   }
  },
  {
   "cell_type": "code",
   "execution_count": 190,
   "outputs": [
    {
     "data": {
      "text/plain": "<Figure size 640x480 with 1 Axes>",
      "image/png": "[encoded data removed]"
     },
     "metadata": {},
     "output_type": "display_data"
    }
   ],
   "source": [
    "plt.plot(fpr, tpr, marker='.', label='Logístico')\n",
    "plt.xlabel('Especificidade')\n",
    "plt.ylabel('Sensitividade')\n",
    "plt.legend()\n",
    "plt.show()"
   ],
   "metadata": {
    "collapsed": false,
    "pycharm": {
     "name": "#%%\n"
    }
   }
  },
  {
   "cell_type": "markdown",
   "source": [
    "- realizar curva de cutoffs\n",
    "- realizar curva ROC"
   ],
   "metadata": {
    "collapsed": false,
    "pycharm": {
     "name": "#%% md\n"
    }
   }
  }
 ],
 "metadata": {
  "kernelspec": {
   "display_name": "Python 3",
   "language": "python",
   "name": "python3"
  },
  "language_info": {
   "codemirror_mode": {
    "name": "ipython",
    "version": 2
   },
   "file_extension": ".py",
   "mimetype": "text/x-python",
   "name": "python",
   "nbconvert_exporter": "python",
   "pygments_lexer": "ipython2",
   "version": "2.7.6"
  }
 },
 "nbformat": 4,
 "nbformat_minor": 0
}