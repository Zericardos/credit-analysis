{
 "cells": [
  {
   "cell_type": "markdown",
   "source": [
    "# Importações"
   ],
   "metadata": {
    "collapsed": false,
    "pycharm": {
     "name": "#%% md\n"
    }
   }
  },
  {
   "cell_type": "code",
   "execution_count": 30,
   "outputs": [],
   "source": [
    "import gc\n",
    "import sklearn as sk\n",
    "import seaborn as sns\n",
    "import matplotlib.pyplot as plt\n",
    "import numpy as np\n",
    "import pandas as pd"
   ],
   "metadata": {
    "collapsed": false,
    "pycharm": {
     "name": "#%%\n"
    }
   }
  },
  {
   "cell_type": "code",
   "execution_count": 31,
   "outputs": [
    {
     "name": "stdout",
     "output_type": "stream",
     "text": [
      "Número de variáveis de x: 21\n",
      "\n",
      "Variáveis de x : Index(['MONTH', 'INDICE_CONDICOES_ECONOMICAS_ATUAIS', 'IPCA_INDICE_GERAL',\n",
      "       'IPCA_TAXA_VARIACAO', 'PIB', 'TAXAS_DESEMPREGO', 'uf', 'tcb', 'sr',\n",
      "       'cliente', 'ocupacao', 'cnae_secao', 'cnae_subclasse', 'porte',\n",
      "       'modalidade', 'origem', 'indexador', 'numero_de_operacoes',\n",
      "       'carteira_ativa', 'carteira_inadimplida_arrastada',\n",
      "       'ativo_problematico'],\n",
      "      dtype='object')\n",
      "\n"
     ]
    },
    {
     "data": {
      "text/plain": "1200"
     },
     "execution_count": 31,
     "metadata": {},
     "output_type": "execute_result"
    }
   ],
   "source": [
    "x_puro = pd.read_csv('../x_teste.csv', delimiter=';')\n",
    "y_puro = pd.read_csv('../y_teste.csv', delimiter=';')\n",
    "print(f\"Número de variáveis de x: {len(x_puro.columns)}\")\n",
    "print(f\"\\nVariáveis de x : {x_puro.columns}\\n\")\n",
    "x_puro.head()\n",
    "df = pd.concat((x_puro, y_puro), axis=1)\n",
    "del x_puro, y_puro\n",
    "gc.collect()"
   ],
   "metadata": {
    "collapsed": false,
    "pycharm": {
     "name": "#%%\n"
    }
   }
  },
  {
   "cell_type": "markdown",
   "source": [
    "## Criação de variáveis auxiliares"
   ],
   "metadata": {
    "collapsed": false,
    "pycharm": {
     "name": "#%% md\n"
    }
   }
  },
  {
   "cell_type": "code",
   "execution_count": 49,
   "outputs": [],
   "source": [
    "col_variaveis = df.columns[:-1]\n",
    "variaveis_numericas = df[col_variaveis].select_dtypes(include=np.number).columns\n",
    "variaveis_categoricas = df[col_variaveis].select_dtypes(exclude=np.number).columns\n",
    "col_y = df.columns[-1]"
   ],
   "metadata": {
    "collapsed": false,
    "pycharm": {
     "name": "#%%\n"
    }
   }
  },
  {
   "cell_type": "code",
   "execution_count": 51,
   "outputs": [
    {
     "name": "stderr",
     "output_type": "stream",
     "text": [
      "\n",
      "KeyboardInterrupt\n",
      "\n"
     ]
    },
    {
     "name": "stdout",
     "output_type": "stream",
     "text": [
      "Error in callback <function flush_figures at 0x7fbfad0a8790> (for post_execute):\n"
     ]
    },
    {
     "ename": "KeyboardInterrupt",
     "evalue": "",
     "output_type": "error",
     "traceback": [
      "\u001B[0;31m---------------------------------------------------------------------------\u001B[0m",
      "\u001B[0;31mKeyboardInterrupt\u001B[0m                         Traceback (most recent call last)",
      "File \u001B[0;32m/run/media/ze/samsung1tb/google_drive/documentos/educacao/mba_usp/tcc/credit-analysis/.venv/lib/python3.10/site-packages/matplotlib_inline/backend_inline.py:126\u001B[0m, in \u001B[0;36mflush_figures\u001B[0;34m()\u001B[0m\n\u001B[1;32m    123\u001B[0m \u001B[38;5;28;01mif\u001B[39;00m InlineBackend\u001B[38;5;241m.\u001B[39minstance()\u001B[38;5;241m.\u001B[39mclose_figures:\n\u001B[1;32m    124\u001B[0m     \u001B[38;5;66;03m# ignore the tracking, just draw and close all figures\u001B[39;00m\n\u001B[1;32m    125\u001B[0m     \u001B[38;5;28;01mtry\u001B[39;00m:\n\u001B[0;32m--> 126\u001B[0m         \u001B[38;5;28;01mreturn\u001B[39;00m \u001B[43mshow\u001B[49m\u001B[43m(\u001B[49m\u001B[38;5;28;43;01mTrue\u001B[39;49;00m\u001B[43m)\u001B[49m\n\u001B[1;32m    127\u001B[0m     \u001B[38;5;28;01mexcept\u001B[39;00m \u001B[38;5;167;01mException\u001B[39;00m \u001B[38;5;28;01mas\u001B[39;00m e:\n\u001B[1;32m    128\u001B[0m         \u001B[38;5;66;03m# safely show traceback if in IPython, else raise\u001B[39;00m\n\u001B[1;32m    129\u001B[0m         ip \u001B[38;5;241m=\u001B[39m get_ipython()\n",
      "File \u001B[0;32m/run/media/ze/samsung1tb/google_drive/documentos/educacao/mba_usp/tcc/credit-analysis/.venv/lib/python3.10/site-packages/matplotlib_inline/backend_inline.py:90\u001B[0m, in \u001B[0;36mshow\u001B[0;34m(close, block)\u001B[0m\n\u001B[1;32m     88\u001B[0m \u001B[38;5;28;01mtry\u001B[39;00m:\n\u001B[1;32m     89\u001B[0m     \u001B[38;5;28;01mfor\u001B[39;00m figure_manager \u001B[38;5;129;01min\u001B[39;00m Gcf\u001B[38;5;241m.\u001B[39mget_all_fig_managers():\n\u001B[0;32m---> 90\u001B[0m         \u001B[43mdisplay\u001B[49m\u001B[43m(\u001B[49m\n\u001B[1;32m     91\u001B[0m \u001B[43m            \u001B[49m\u001B[43mfigure_manager\u001B[49m\u001B[38;5;241;43m.\u001B[39;49m\u001B[43mcanvas\u001B[49m\u001B[38;5;241;43m.\u001B[39;49m\u001B[43mfigure\u001B[49m\u001B[43m,\u001B[49m\n\u001B[1;32m     92\u001B[0m \u001B[43m            \u001B[49m\u001B[43mmetadata\u001B[49m\u001B[38;5;241;43m=\u001B[39;49m\u001B[43m_fetch_figure_metadata\u001B[49m\u001B[43m(\u001B[49m\u001B[43mfigure_manager\u001B[49m\u001B[38;5;241;43m.\u001B[39;49m\u001B[43mcanvas\u001B[49m\u001B[38;5;241;43m.\u001B[39;49m\u001B[43mfigure\u001B[49m\u001B[43m)\u001B[49m\n\u001B[1;32m     93\u001B[0m \u001B[43m        \u001B[49m\u001B[43m)\u001B[49m\n\u001B[1;32m     94\u001B[0m \u001B[38;5;28;01mfinally\u001B[39;00m:\n\u001B[1;32m     95\u001B[0m     show\u001B[38;5;241m.\u001B[39m_to_draw \u001B[38;5;241m=\u001B[39m []\n",
      "File \u001B[0;32m/run/media/ze/samsung1tb/google_drive/documentos/educacao/mba_usp/tcc/credit-analysis/.venv/lib/python3.10/site-packages/IPython/core/display_functions.py:298\u001B[0m, in \u001B[0;36mdisplay\u001B[0;34m(include, exclude, metadata, transient, display_id, raw, clear, *objs, **kwargs)\u001B[0m\n\u001B[1;32m    296\u001B[0m     publish_display_data(data\u001B[38;5;241m=\u001B[39mobj, metadata\u001B[38;5;241m=\u001B[39mmetadata, \u001B[38;5;241m*\u001B[39m\u001B[38;5;241m*\u001B[39mkwargs)\n\u001B[1;32m    297\u001B[0m \u001B[38;5;28;01melse\u001B[39;00m:\n\u001B[0;32m--> 298\u001B[0m     format_dict, md_dict \u001B[38;5;241m=\u001B[39m \u001B[38;5;28;43mformat\u001B[39;49m\u001B[43m(\u001B[49m\u001B[43mobj\u001B[49m\u001B[43m,\u001B[49m\u001B[43m \u001B[49m\u001B[43minclude\u001B[49m\u001B[38;5;241;43m=\u001B[39;49m\u001B[43minclude\u001B[49m\u001B[43m,\u001B[49m\u001B[43m \u001B[49m\u001B[43mexclude\u001B[49m\u001B[38;5;241;43m=\u001B[39;49m\u001B[43mexclude\u001B[49m\u001B[43m)\u001B[49m\n\u001B[1;32m    299\u001B[0m     \u001B[38;5;28;01mif\u001B[39;00m \u001B[38;5;129;01mnot\u001B[39;00m format_dict:\n\u001B[1;32m    300\u001B[0m         \u001B[38;5;66;03m# nothing to display (e.g. _ipython_display_ took over)\u001B[39;00m\n\u001B[1;32m    301\u001B[0m         \u001B[38;5;28;01mcontinue\u001B[39;00m\n",
      "File \u001B[0;32m/run/media/ze/samsung1tb/google_drive/documentos/educacao/mba_usp/tcc/credit-analysis/.venv/lib/python3.10/site-packages/IPython/core/formatters.py:178\u001B[0m, in \u001B[0;36mDisplayFormatter.format\u001B[0;34m(self, obj, include, exclude)\u001B[0m\n\u001B[1;32m    176\u001B[0m md \u001B[38;5;241m=\u001B[39m \u001B[38;5;28;01mNone\u001B[39;00m\n\u001B[1;32m    177\u001B[0m \u001B[38;5;28;01mtry\u001B[39;00m:\n\u001B[0;32m--> 178\u001B[0m     data \u001B[38;5;241m=\u001B[39m \u001B[43mformatter\u001B[49m\u001B[43m(\u001B[49m\u001B[43mobj\u001B[49m\u001B[43m)\u001B[49m\n\u001B[1;32m    179\u001B[0m \u001B[38;5;28;01mexcept\u001B[39;00m:\n\u001B[1;32m    180\u001B[0m     \u001B[38;5;66;03m# FIXME: log the exception\u001B[39;00m\n\u001B[1;32m    181\u001B[0m     \u001B[38;5;28;01mraise\u001B[39;00m\n",
      "File \u001B[0;32m/run/media/ze/samsung1tb/google_drive/documentos/educacao/mba_usp/tcc/credit-analysis/.venv/lib/python3.10/site-packages/decorator.py:232\u001B[0m, in \u001B[0;36mdecorate.<locals>.fun\u001B[0;34m(*args, **kw)\u001B[0m\n\u001B[1;32m    230\u001B[0m \u001B[38;5;28;01mif\u001B[39;00m \u001B[38;5;129;01mnot\u001B[39;00m kwsyntax:\n\u001B[1;32m    231\u001B[0m     args, kw \u001B[38;5;241m=\u001B[39m fix(args, kw, sig)\n\u001B[0;32m--> 232\u001B[0m \u001B[38;5;28;01mreturn\u001B[39;00m \u001B[43mcaller\u001B[49m\u001B[43m(\u001B[49m\u001B[43mfunc\u001B[49m\u001B[43m,\u001B[49m\u001B[43m \u001B[49m\u001B[38;5;241;43m*\u001B[39;49m\u001B[43m(\u001B[49m\u001B[43mextras\u001B[49m\u001B[43m \u001B[49m\u001B[38;5;241;43m+\u001B[39;49m\u001B[43m \u001B[49m\u001B[43margs\u001B[49m\u001B[43m)\u001B[49m\u001B[43m,\u001B[49m\u001B[43m \u001B[49m\u001B[38;5;241;43m*\u001B[39;49m\u001B[38;5;241;43m*\u001B[39;49m\u001B[43mkw\u001B[49m\u001B[43m)\u001B[49m\n",
      "File \u001B[0;32m/run/media/ze/samsung1tb/google_drive/documentos/educacao/mba_usp/tcc/credit-analysis/.venv/lib/python3.10/site-packages/IPython/core/formatters.py:222\u001B[0m, in \u001B[0;36mcatch_format_error\u001B[0;34m(method, self, *args, **kwargs)\u001B[0m\n\u001B[1;32m    220\u001B[0m \u001B[38;5;124;03m\"\"\"show traceback on failed format call\"\"\"\u001B[39;00m\n\u001B[1;32m    221\u001B[0m \u001B[38;5;28;01mtry\u001B[39;00m:\n\u001B[0;32m--> 222\u001B[0m     r \u001B[38;5;241m=\u001B[39m \u001B[43mmethod\u001B[49m\u001B[43m(\u001B[49m\u001B[38;5;28;43mself\u001B[39;49m\u001B[43m,\u001B[49m\u001B[43m \u001B[49m\u001B[38;5;241;43m*\u001B[39;49m\u001B[43margs\u001B[49m\u001B[43m,\u001B[49m\u001B[43m \u001B[49m\u001B[38;5;241;43m*\u001B[39;49m\u001B[38;5;241;43m*\u001B[39;49m\u001B[43mkwargs\u001B[49m\u001B[43m)\u001B[49m\n\u001B[1;32m    223\u001B[0m \u001B[38;5;28;01mexcept\u001B[39;00m \u001B[38;5;167;01mNotImplementedError\u001B[39;00m:\n\u001B[1;32m    224\u001B[0m     \u001B[38;5;66;03m# don't warn on NotImplementedErrors\u001B[39;00m\n\u001B[1;32m    225\u001B[0m     \u001B[38;5;28;01mreturn\u001B[39;00m \u001B[38;5;28mself\u001B[39m\u001B[38;5;241m.\u001B[39m_check_return(\u001B[38;5;28;01mNone\u001B[39;00m, args[\u001B[38;5;241m0\u001B[39m])\n",
      "File \u001B[0;32m/run/media/ze/samsung1tb/google_drive/documentos/educacao/mba_usp/tcc/credit-analysis/.venv/lib/python3.10/site-packages/IPython/core/formatters.py:339\u001B[0m, in \u001B[0;36mBaseFormatter.__call__\u001B[0;34m(self, obj)\u001B[0m\n\u001B[1;32m    337\u001B[0m     \u001B[38;5;28;01mpass\u001B[39;00m\n\u001B[1;32m    338\u001B[0m \u001B[38;5;28;01melse\u001B[39;00m:\n\u001B[0;32m--> 339\u001B[0m     \u001B[38;5;28;01mreturn\u001B[39;00m \u001B[43mprinter\u001B[49m\u001B[43m(\u001B[49m\u001B[43mobj\u001B[49m\u001B[43m)\u001B[49m\n\u001B[1;32m    340\u001B[0m \u001B[38;5;66;03m# Finally look for special method names\u001B[39;00m\n\u001B[1;32m    341\u001B[0m method \u001B[38;5;241m=\u001B[39m get_real_method(obj, \u001B[38;5;28mself\u001B[39m\u001B[38;5;241m.\u001B[39mprint_method)\n",
      "File \u001B[0;32m/run/media/ze/samsung1tb/google_drive/documentos/educacao/mba_usp/tcc/credit-analysis/.venv/lib/python3.10/site-packages/IPython/core/pylabtools.py:151\u001B[0m, in \u001B[0;36mprint_figure\u001B[0;34m(fig, fmt, bbox_inches, base64, **kwargs)\u001B[0m\n\u001B[1;32m    148\u001B[0m     \u001B[38;5;28;01mfrom\u001B[39;00m \u001B[38;5;21;01mmatplotlib\u001B[39;00m\u001B[38;5;21;01m.\u001B[39;00m\u001B[38;5;21;01mbackend_bases\u001B[39;00m \u001B[38;5;28;01mimport\u001B[39;00m FigureCanvasBase\n\u001B[1;32m    149\u001B[0m     FigureCanvasBase(fig)\n\u001B[0;32m--> 151\u001B[0m \u001B[43mfig\u001B[49m\u001B[38;5;241;43m.\u001B[39;49m\u001B[43mcanvas\u001B[49m\u001B[38;5;241;43m.\u001B[39;49m\u001B[43mprint_figure\u001B[49m\u001B[43m(\u001B[49m\u001B[43mbytes_io\u001B[49m\u001B[43m,\u001B[49m\u001B[43m \u001B[49m\u001B[38;5;241;43m*\u001B[39;49m\u001B[38;5;241;43m*\u001B[39;49m\u001B[43mkw\u001B[49m\u001B[43m)\u001B[49m\n\u001B[1;32m    152\u001B[0m data \u001B[38;5;241m=\u001B[39m bytes_io\u001B[38;5;241m.\u001B[39mgetvalue()\n\u001B[1;32m    153\u001B[0m \u001B[38;5;28;01mif\u001B[39;00m fmt \u001B[38;5;241m==\u001B[39m \u001B[38;5;124m'\u001B[39m\u001B[38;5;124msvg\u001B[39m\u001B[38;5;124m'\u001B[39m:\n",
      "File \u001B[0;32m/run/media/ze/samsung1tb/google_drive/documentos/educacao/mba_usp/tcc/credit-analysis/.venv/lib/python3.10/site-packages/matplotlib/backend_bases.py:2295\u001B[0m, in \u001B[0;36mFigureCanvasBase.print_figure\u001B[0;34m(self, filename, dpi, facecolor, edgecolor, orientation, format, bbox_inches, pad_inches, bbox_extra_artists, backend, **kwargs)\u001B[0m\n\u001B[1;32m   2289\u001B[0m     renderer \u001B[38;5;241m=\u001B[39m _get_renderer(\n\u001B[1;32m   2290\u001B[0m         \u001B[38;5;28mself\u001B[39m\u001B[38;5;241m.\u001B[39mfigure,\n\u001B[1;32m   2291\u001B[0m         functools\u001B[38;5;241m.\u001B[39mpartial(\n\u001B[1;32m   2292\u001B[0m             print_method, orientation\u001B[38;5;241m=\u001B[39morientation)\n\u001B[1;32m   2293\u001B[0m     )\n\u001B[1;32m   2294\u001B[0m     \u001B[38;5;28;01mwith\u001B[39;00m \u001B[38;5;28mgetattr\u001B[39m(renderer, \u001B[38;5;124m\"\u001B[39m\u001B[38;5;124m_draw_disabled\u001B[39m\u001B[38;5;124m\"\u001B[39m, nullcontext)():\n\u001B[0;32m-> 2295\u001B[0m         \u001B[38;5;28;43mself\u001B[39;49m\u001B[38;5;241;43m.\u001B[39;49m\u001B[43mfigure\u001B[49m\u001B[38;5;241;43m.\u001B[39;49m\u001B[43mdraw\u001B[49m\u001B[43m(\u001B[49m\u001B[43mrenderer\u001B[49m\u001B[43m)\u001B[49m\n\u001B[1;32m   2297\u001B[0m \u001B[38;5;28;01mif\u001B[39;00m bbox_inches:\n\u001B[1;32m   2298\u001B[0m     \u001B[38;5;28;01mif\u001B[39;00m bbox_inches \u001B[38;5;241m==\u001B[39m \u001B[38;5;124m\"\u001B[39m\u001B[38;5;124mtight\u001B[39m\u001B[38;5;124m\"\u001B[39m:\n",
      "File \u001B[0;32m/run/media/ze/samsung1tb/google_drive/documentos/educacao/mba_usp/tcc/credit-analysis/.venv/lib/python3.10/site-packages/matplotlib/artist.py:73\u001B[0m, in \u001B[0;36m_finalize_rasterization.<locals>.draw_wrapper\u001B[0;34m(artist, renderer, *args, **kwargs)\u001B[0m\n\u001B[1;32m     71\u001B[0m \u001B[38;5;129m@wraps\u001B[39m(draw)\n\u001B[1;32m     72\u001B[0m \u001B[38;5;28;01mdef\u001B[39;00m \u001B[38;5;21mdraw_wrapper\u001B[39m(artist, renderer, \u001B[38;5;241m*\u001B[39margs, \u001B[38;5;241m*\u001B[39m\u001B[38;5;241m*\u001B[39mkwargs):\n\u001B[0;32m---> 73\u001B[0m     result \u001B[38;5;241m=\u001B[39m \u001B[43mdraw\u001B[49m\u001B[43m(\u001B[49m\u001B[43martist\u001B[49m\u001B[43m,\u001B[49m\u001B[43m \u001B[49m\u001B[43mrenderer\u001B[49m\u001B[43m,\u001B[49m\u001B[43m \u001B[49m\u001B[38;5;241;43m*\u001B[39;49m\u001B[43margs\u001B[49m\u001B[43m,\u001B[49m\u001B[43m \u001B[49m\u001B[38;5;241;43m*\u001B[39;49m\u001B[38;5;241;43m*\u001B[39;49m\u001B[43mkwargs\u001B[49m\u001B[43m)\u001B[49m\n\u001B[1;32m     74\u001B[0m     \u001B[38;5;28;01mif\u001B[39;00m renderer\u001B[38;5;241m.\u001B[39m_rasterizing:\n\u001B[1;32m     75\u001B[0m         renderer\u001B[38;5;241m.\u001B[39mstop_rasterizing()\n",
      "File \u001B[0;32m/run/media/ze/samsung1tb/google_drive/documentos/educacao/mba_usp/tcc/credit-analysis/.venv/lib/python3.10/site-packages/matplotlib/artist.py:50\u001B[0m, in \u001B[0;36mallow_rasterization.<locals>.draw_wrapper\u001B[0;34m(artist, renderer)\u001B[0m\n\u001B[1;32m     47\u001B[0m     \u001B[38;5;28;01mif\u001B[39;00m artist\u001B[38;5;241m.\u001B[39mget_agg_filter() \u001B[38;5;129;01mis\u001B[39;00m \u001B[38;5;129;01mnot\u001B[39;00m \u001B[38;5;28;01mNone\u001B[39;00m:\n\u001B[1;32m     48\u001B[0m         renderer\u001B[38;5;241m.\u001B[39mstart_filter()\n\u001B[0;32m---> 50\u001B[0m     \u001B[38;5;28;01mreturn\u001B[39;00m \u001B[43mdraw\u001B[49m\u001B[43m(\u001B[49m\u001B[43martist\u001B[49m\u001B[43m,\u001B[49m\u001B[43m \u001B[49m\u001B[43mrenderer\u001B[49m\u001B[43m)\u001B[49m\n\u001B[1;32m     51\u001B[0m \u001B[38;5;28;01mfinally\u001B[39;00m:\n\u001B[1;32m     52\u001B[0m     \u001B[38;5;28;01mif\u001B[39;00m artist\u001B[38;5;241m.\u001B[39mget_agg_filter() \u001B[38;5;129;01mis\u001B[39;00m \u001B[38;5;129;01mnot\u001B[39;00m \u001B[38;5;28;01mNone\u001B[39;00m:\n",
      "File \u001B[0;32m/run/media/ze/samsung1tb/google_drive/documentos/educacao/mba_usp/tcc/credit-analysis/.venv/lib/python3.10/site-packages/matplotlib/figure.py:2837\u001B[0m, in \u001B[0;36mFigure.draw\u001B[0;34m(self, renderer)\u001B[0m\n\u001B[1;32m   2834\u001B[0m         \u001B[38;5;66;03m# ValueError can occur when resizing a window.\u001B[39;00m\n\u001B[1;32m   2836\u001B[0m \u001B[38;5;28mself\u001B[39m\u001B[38;5;241m.\u001B[39mpatch\u001B[38;5;241m.\u001B[39mdraw(renderer)\n\u001B[0;32m-> 2837\u001B[0m \u001B[43mmimage\u001B[49m\u001B[38;5;241;43m.\u001B[39;49m\u001B[43m_draw_list_compositing_images\u001B[49m\u001B[43m(\u001B[49m\n\u001B[1;32m   2838\u001B[0m \u001B[43m    \u001B[49m\u001B[43mrenderer\u001B[49m\u001B[43m,\u001B[49m\u001B[43m \u001B[49m\u001B[38;5;28;43mself\u001B[39;49m\u001B[43m,\u001B[49m\u001B[43m \u001B[49m\u001B[43martists\u001B[49m\u001B[43m,\u001B[49m\u001B[43m \u001B[49m\u001B[38;5;28;43mself\u001B[39;49m\u001B[38;5;241;43m.\u001B[39;49m\u001B[43msuppressComposite\u001B[49m\u001B[43m)\u001B[49m\n\u001B[1;32m   2840\u001B[0m \u001B[38;5;28;01mfor\u001B[39;00m sfig \u001B[38;5;129;01min\u001B[39;00m \u001B[38;5;28mself\u001B[39m\u001B[38;5;241m.\u001B[39msubfigs:\n\u001B[1;32m   2841\u001B[0m     sfig\u001B[38;5;241m.\u001B[39mdraw(renderer)\n",
      "File \u001B[0;32m/run/media/ze/samsung1tb/google_drive/documentos/educacao/mba_usp/tcc/credit-analysis/.venv/lib/python3.10/site-packages/matplotlib/image.py:132\u001B[0m, in \u001B[0;36m_draw_list_compositing_images\u001B[0;34m(renderer, parent, artists, suppress_composite)\u001B[0m\n\u001B[1;32m    130\u001B[0m \u001B[38;5;28;01mif\u001B[39;00m not_composite \u001B[38;5;129;01mor\u001B[39;00m \u001B[38;5;129;01mnot\u001B[39;00m has_images:\n\u001B[1;32m    131\u001B[0m     \u001B[38;5;28;01mfor\u001B[39;00m a \u001B[38;5;129;01min\u001B[39;00m artists:\n\u001B[0;32m--> 132\u001B[0m         \u001B[43ma\u001B[49m\u001B[38;5;241;43m.\u001B[39;49m\u001B[43mdraw\u001B[49m\u001B[43m(\u001B[49m\u001B[43mrenderer\u001B[49m\u001B[43m)\u001B[49m\n\u001B[1;32m    133\u001B[0m \u001B[38;5;28;01melse\u001B[39;00m:\n\u001B[1;32m    134\u001B[0m     \u001B[38;5;66;03m# Composite any adjacent images together\u001B[39;00m\n\u001B[1;32m    135\u001B[0m     image_group \u001B[38;5;241m=\u001B[39m []\n",
      "File \u001B[0;32m/run/media/ze/samsung1tb/google_drive/documentos/educacao/mba_usp/tcc/credit-analysis/.venv/lib/python3.10/site-packages/matplotlib/artist.py:50\u001B[0m, in \u001B[0;36mallow_rasterization.<locals>.draw_wrapper\u001B[0;34m(artist, renderer)\u001B[0m\n\u001B[1;32m     47\u001B[0m     \u001B[38;5;28;01mif\u001B[39;00m artist\u001B[38;5;241m.\u001B[39mget_agg_filter() \u001B[38;5;129;01mis\u001B[39;00m \u001B[38;5;129;01mnot\u001B[39;00m \u001B[38;5;28;01mNone\u001B[39;00m:\n\u001B[1;32m     48\u001B[0m         renderer\u001B[38;5;241m.\u001B[39mstart_filter()\n\u001B[0;32m---> 50\u001B[0m     \u001B[38;5;28;01mreturn\u001B[39;00m \u001B[43mdraw\u001B[49m\u001B[43m(\u001B[49m\u001B[43martist\u001B[49m\u001B[43m,\u001B[49m\u001B[43m \u001B[49m\u001B[43mrenderer\u001B[49m\u001B[43m)\u001B[49m\n\u001B[1;32m     51\u001B[0m \u001B[38;5;28;01mfinally\u001B[39;00m:\n\u001B[1;32m     52\u001B[0m     \u001B[38;5;28;01mif\u001B[39;00m artist\u001B[38;5;241m.\u001B[39mget_agg_filter() \u001B[38;5;129;01mis\u001B[39;00m \u001B[38;5;129;01mnot\u001B[39;00m \u001B[38;5;28;01mNone\u001B[39;00m:\n",
      "File \u001B[0;32m/run/media/ze/samsung1tb/google_drive/documentos/educacao/mba_usp/tcc/credit-analysis/.venv/lib/python3.10/site-packages/matplotlib/axes/_base.py:3091\u001B[0m, in \u001B[0;36m_AxesBase.draw\u001B[0;34m(self, renderer)\u001B[0m\n\u001B[1;32m   3088\u001B[0m         a\u001B[38;5;241m.\u001B[39mdraw(renderer)\n\u001B[1;32m   3089\u001B[0m     renderer\u001B[38;5;241m.\u001B[39mstop_rasterizing()\n\u001B[0;32m-> 3091\u001B[0m \u001B[43mmimage\u001B[49m\u001B[38;5;241;43m.\u001B[39;49m\u001B[43m_draw_list_compositing_images\u001B[49m\u001B[43m(\u001B[49m\n\u001B[1;32m   3092\u001B[0m \u001B[43m    \u001B[49m\u001B[43mrenderer\u001B[49m\u001B[43m,\u001B[49m\u001B[43m \u001B[49m\u001B[38;5;28;43mself\u001B[39;49m\u001B[43m,\u001B[49m\u001B[43m \u001B[49m\u001B[43martists\u001B[49m\u001B[43m,\u001B[49m\u001B[43m \u001B[49m\u001B[38;5;28;43mself\u001B[39;49m\u001B[38;5;241;43m.\u001B[39;49m\u001B[43mfigure\u001B[49m\u001B[38;5;241;43m.\u001B[39;49m\u001B[43msuppressComposite\u001B[49m\u001B[43m)\u001B[49m\n\u001B[1;32m   3094\u001B[0m renderer\u001B[38;5;241m.\u001B[39mclose_group(\u001B[38;5;124m'\u001B[39m\u001B[38;5;124maxes\u001B[39m\u001B[38;5;124m'\u001B[39m)\n\u001B[1;32m   3095\u001B[0m \u001B[38;5;28mself\u001B[39m\u001B[38;5;241m.\u001B[39mstale \u001B[38;5;241m=\u001B[39m \u001B[38;5;28;01mFalse\u001B[39;00m\n",
      "File \u001B[0;32m/run/media/ze/samsung1tb/google_drive/documentos/educacao/mba_usp/tcc/credit-analysis/.venv/lib/python3.10/site-packages/matplotlib/image.py:132\u001B[0m, in \u001B[0;36m_draw_list_compositing_images\u001B[0;34m(renderer, parent, artists, suppress_composite)\u001B[0m\n\u001B[1;32m    130\u001B[0m \u001B[38;5;28;01mif\u001B[39;00m not_composite \u001B[38;5;129;01mor\u001B[39;00m \u001B[38;5;129;01mnot\u001B[39;00m has_images:\n\u001B[1;32m    131\u001B[0m     \u001B[38;5;28;01mfor\u001B[39;00m a \u001B[38;5;129;01min\u001B[39;00m artists:\n\u001B[0;32m--> 132\u001B[0m         \u001B[43ma\u001B[49m\u001B[38;5;241;43m.\u001B[39;49m\u001B[43mdraw\u001B[49m\u001B[43m(\u001B[49m\u001B[43mrenderer\u001B[49m\u001B[43m)\u001B[49m\n\u001B[1;32m    133\u001B[0m \u001B[38;5;28;01melse\u001B[39;00m:\n\u001B[1;32m    134\u001B[0m     \u001B[38;5;66;03m# Composite any adjacent images together\u001B[39;00m\n\u001B[1;32m    135\u001B[0m     image_group \u001B[38;5;241m=\u001B[39m []\n",
      "File \u001B[0;32m/run/media/ze/samsung1tb/google_drive/documentos/educacao/mba_usp/tcc/credit-analysis/.venv/lib/python3.10/site-packages/matplotlib/artist.py:50\u001B[0m, in \u001B[0;36mallow_rasterization.<locals>.draw_wrapper\u001B[0;34m(artist, renderer)\u001B[0m\n\u001B[1;32m     47\u001B[0m     \u001B[38;5;28;01mif\u001B[39;00m artist\u001B[38;5;241m.\u001B[39mget_agg_filter() \u001B[38;5;129;01mis\u001B[39;00m \u001B[38;5;129;01mnot\u001B[39;00m \u001B[38;5;28;01mNone\u001B[39;00m:\n\u001B[1;32m     48\u001B[0m         renderer\u001B[38;5;241m.\u001B[39mstart_filter()\n\u001B[0;32m---> 50\u001B[0m     \u001B[38;5;28;01mreturn\u001B[39;00m \u001B[43mdraw\u001B[49m\u001B[43m(\u001B[49m\u001B[43martist\u001B[49m\u001B[43m,\u001B[49m\u001B[43m \u001B[49m\u001B[43mrenderer\u001B[49m\u001B[43m)\u001B[49m\n\u001B[1;32m     51\u001B[0m \u001B[38;5;28;01mfinally\u001B[39;00m:\n\u001B[1;32m     52\u001B[0m     \u001B[38;5;28;01mif\u001B[39;00m artist\u001B[38;5;241m.\u001B[39mget_agg_filter() \u001B[38;5;129;01mis\u001B[39;00m \u001B[38;5;129;01mnot\u001B[39;00m \u001B[38;5;28;01mNone\u001B[39;00m:\n",
      "File \u001B[0;32m/run/media/ze/samsung1tb/google_drive/documentos/educacao/mba_usp/tcc/credit-analysis/.venv/lib/python3.10/site-packages/matplotlib/legend.py:620\u001B[0m, in \u001B[0;36mLegend.draw\u001B[0;34m(self, renderer)\u001B[0m\n\u001B[1;32m    616\u001B[0m     \u001B[38;5;28mself\u001B[39m\u001B[38;5;241m.\u001B[39m_legend_box\u001B[38;5;241m.\u001B[39mset_width(\u001B[38;5;28mself\u001B[39m\u001B[38;5;241m.\u001B[39mget_bbox_to_anchor()\u001B[38;5;241m.\u001B[39mwidth \u001B[38;5;241m-\u001B[39m pad)\n\u001B[1;32m    618\u001B[0m \u001B[38;5;66;03m# update the location and size of the legend. This needs to\u001B[39;00m\n\u001B[1;32m    619\u001B[0m \u001B[38;5;66;03m# be done in any case to clip the figure right.\u001B[39;00m\n\u001B[0;32m--> 620\u001B[0m bbox \u001B[38;5;241m=\u001B[39m \u001B[38;5;28;43mself\u001B[39;49m\u001B[38;5;241;43m.\u001B[39;49m\u001B[43m_legend_box\u001B[49m\u001B[38;5;241;43m.\u001B[39;49m\u001B[43mget_window_extent\u001B[49m\u001B[43m(\u001B[49m\u001B[43mrenderer\u001B[49m\u001B[43m)\u001B[49m\n\u001B[1;32m    621\u001B[0m \u001B[38;5;28mself\u001B[39m\u001B[38;5;241m.\u001B[39mlegendPatch\u001B[38;5;241m.\u001B[39mset_bounds(bbox\u001B[38;5;241m.\u001B[39mx0, bbox\u001B[38;5;241m.\u001B[39my0, bbox\u001B[38;5;241m.\u001B[39mwidth, bbox\u001B[38;5;241m.\u001B[39mheight)\n\u001B[1;32m    622\u001B[0m \u001B[38;5;28mself\u001B[39m\u001B[38;5;241m.\u001B[39mlegendPatch\u001B[38;5;241m.\u001B[39mset_mutation_scale(fontsize)\n",
      "File \u001B[0;32m/run/media/ze/samsung1tb/google_drive/documentos/educacao/mba_usp/tcc/credit-analysis/.venv/lib/python3.10/site-packages/matplotlib/offsetbox.py:350\u001B[0m, in \u001B[0;36mOffsetBox.get_window_extent\u001B[0;34m(self, renderer)\u001B[0m\n\u001B[1;32m    348\u001B[0m \u001B[38;5;28;01mdef\u001B[39;00m \u001B[38;5;21mget_window_extent\u001B[39m(\u001B[38;5;28mself\u001B[39m, renderer):\n\u001B[1;32m    349\u001B[0m     \u001B[38;5;66;03m# docstring inherited\u001B[39;00m\n\u001B[0;32m--> 350\u001B[0m     w, h, xd, yd, offsets \u001B[38;5;241m=\u001B[39m \u001B[38;5;28;43mself\u001B[39;49m\u001B[38;5;241;43m.\u001B[39;49m\u001B[43mget_extent_offsets\u001B[49m\u001B[43m(\u001B[49m\u001B[43mrenderer\u001B[49m\u001B[43m)\u001B[49m\n\u001B[1;32m    351\u001B[0m     px, py \u001B[38;5;241m=\u001B[39m \u001B[38;5;28mself\u001B[39m\u001B[38;5;241m.\u001B[39mget_offset(w, h, xd, yd, renderer)\n\u001B[1;32m    352\u001B[0m     \u001B[38;5;28;01mreturn\u001B[39;00m mtransforms\u001B[38;5;241m.\u001B[39mBbox\u001B[38;5;241m.\u001B[39mfrom_bounds(px \u001B[38;5;241m-\u001B[39m xd, py \u001B[38;5;241m-\u001B[39m yd, w, h)\n",
      "File \u001B[0;32m/run/media/ze/samsung1tb/google_drive/documentos/educacao/mba_usp/tcc/credit-analysis/.venv/lib/python3.10/site-packages/matplotlib/offsetbox.py:436\u001B[0m, in \u001B[0;36mVPacker.get_extent_offsets\u001B[0;34m(self, renderer)\u001B[0m\n\u001B[1;32m    433\u001B[0m         \u001B[38;5;28;01mif\u001B[39;00m \u001B[38;5;28misinstance\u001B[39m(c, PackerBase) \u001B[38;5;129;01mand\u001B[39;00m c\u001B[38;5;241m.\u001B[39mmode \u001B[38;5;241m==\u001B[39m \u001B[38;5;124m\"\u001B[39m\u001B[38;5;124mexpand\u001B[39m\u001B[38;5;124m\"\u001B[39m:\n\u001B[1;32m    434\u001B[0m             c\u001B[38;5;241m.\u001B[39mset_width(\u001B[38;5;28mself\u001B[39m\u001B[38;5;241m.\u001B[39mwidth)\n\u001B[0;32m--> 436\u001B[0m whd_list \u001B[38;5;241m=\u001B[39m [c\u001B[38;5;241m.\u001B[39mget_extent(renderer)\n\u001B[1;32m    437\u001B[0m             \u001B[38;5;28;01mfor\u001B[39;00m c \u001B[38;5;129;01min\u001B[39;00m \u001B[38;5;28mself\u001B[39m\u001B[38;5;241m.\u001B[39mget_visible_children()]\n\u001B[1;32m    438\u001B[0m whd_list \u001B[38;5;241m=\u001B[39m [(w, h, xd, (h \u001B[38;5;241m-\u001B[39m yd)) \u001B[38;5;28;01mfor\u001B[39;00m w, h, xd, yd \u001B[38;5;129;01min\u001B[39;00m whd_list]\n\u001B[1;32m    440\u001B[0m wd_list \u001B[38;5;241m=\u001B[39m [(w, xd) \u001B[38;5;28;01mfor\u001B[39;00m w, h, xd, yd \u001B[38;5;129;01min\u001B[39;00m whd_list]\n",
      "File \u001B[0;32m/run/media/ze/samsung1tb/google_drive/documentos/educacao/mba_usp/tcc/credit-analysis/.venv/lib/python3.10/site-packages/matplotlib/offsetbox.py:436\u001B[0m, in \u001B[0;36m<listcomp>\u001B[0;34m(.0)\u001B[0m\n\u001B[1;32m    433\u001B[0m         \u001B[38;5;28;01mif\u001B[39;00m \u001B[38;5;28misinstance\u001B[39m(c, PackerBase) \u001B[38;5;129;01mand\u001B[39;00m c\u001B[38;5;241m.\u001B[39mmode \u001B[38;5;241m==\u001B[39m \u001B[38;5;124m\"\u001B[39m\u001B[38;5;124mexpand\u001B[39m\u001B[38;5;124m\"\u001B[39m:\n\u001B[1;32m    434\u001B[0m             c\u001B[38;5;241m.\u001B[39mset_width(\u001B[38;5;28mself\u001B[39m\u001B[38;5;241m.\u001B[39mwidth)\n\u001B[0;32m--> 436\u001B[0m whd_list \u001B[38;5;241m=\u001B[39m [\u001B[43mc\u001B[49m\u001B[38;5;241;43m.\u001B[39;49m\u001B[43mget_extent\u001B[49m\u001B[43m(\u001B[49m\u001B[43mrenderer\u001B[49m\u001B[43m)\u001B[49m\n\u001B[1;32m    437\u001B[0m             \u001B[38;5;28;01mfor\u001B[39;00m c \u001B[38;5;129;01min\u001B[39;00m \u001B[38;5;28mself\u001B[39m\u001B[38;5;241m.\u001B[39mget_visible_children()]\n\u001B[1;32m    438\u001B[0m whd_list \u001B[38;5;241m=\u001B[39m [(w, h, xd, (h \u001B[38;5;241m-\u001B[39m yd)) \u001B[38;5;28;01mfor\u001B[39;00m w, h, xd, yd \u001B[38;5;129;01min\u001B[39;00m whd_list]\n\u001B[1;32m    440\u001B[0m wd_list \u001B[38;5;241m=\u001B[39m [(w, xd) \u001B[38;5;28;01mfor\u001B[39;00m w, h, xd, yd \u001B[38;5;129;01min\u001B[39;00m whd_list]\n",
      "File \u001B[0;32m/run/media/ze/samsung1tb/google_drive/documentos/educacao/mba_usp/tcc/credit-analysis/.venv/lib/python3.10/site-packages/matplotlib/offsetbox.py:345\u001B[0m, in \u001B[0;36mOffsetBox.get_extent\u001B[0;34m(self, renderer)\u001B[0m\n\u001B[1;32m    343\u001B[0m \u001B[38;5;28;01mdef\u001B[39;00m \u001B[38;5;21mget_extent\u001B[39m(\u001B[38;5;28mself\u001B[39m, renderer):\n\u001B[1;32m    344\u001B[0m     \u001B[38;5;124;03m\"\"\"Return a tuple ``width, height, xdescent, ydescent`` of the box.\"\"\"\u001B[39;00m\n\u001B[0;32m--> 345\u001B[0m     w, h, xd, yd, offsets \u001B[38;5;241m=\u001B[39m \u001B[38;5;28;43mself\u001B[39;49m\u001B[38;5;241;43m.\u001B[39;49m\u001B[43mget_extent_offsets\u001B[49m\u001B[43m(\u001B[49m\u001B[43mrenderer\u001B[49m\u001B[43m)\u001B[49m\n\u001B[1;32m    346\u001B[0m     \u001B[38;5;28;01mreturn\u001B[39;00m w, h, xd, yd\n",
      "File \u001B[0;32m/run/media/ze/samsung1tb/google_drive/documentos/educacao/mba_usp/tcc/credit-analysis/.venv/lib/python3.10/site-packages/matplotlib/offsetbox.py:472\u001B[0m, in \u001B[0;36mHPacker.get_extent_offsets\u001B[0;34m(self, renderer)\u001B[0m\n\u001B[1;32m    469\u001B[0m pad \u001B[38;5;241m=\u001B[39m \u001B[38;5;28mself\u001B[39m\u001B[38;5;241m.\u001B[39mpad \u001B[38;5;241m*\u001B[39m dpicor\n\u001B[1;32m    470\u001B[0m sep \u001B[38;5;241m=\u001B[39m \u001B[38;5;28mself\u001B[39m\u001B[38;5;241m.\u001B[39msep \u001B[38;5;241m*\u001B[39m dpicor\n\u001B[0;32m--> 472\u001B[0m whd_list \u001B[38;5;241m=\u001B[39m [c\u001B[38;5;241m.\u001B[39mget_extent(renderer)\n\u001B[1;32m    473\u001B[0m             \u001B[38;5;28;01mfor\u001B[39;00m c \u001B[38;5;129;01min\u001B[39;00m \u001B[38;5;28mself\u001B[39m\u001B[38;5;241m.\u001B[39mget_visible_children()]\n\u001B[1;32m    475\u001B[0m \u001B[38;5;28;01mif\u001B[39;00m \u001B[38;5;129;01mnot\u001B[39;00m whd_list:\n\u001B[1;32m    476\u001B[0m     \u001B[38;5;28;01mreturn\u001B[39;00m \u001B[38;5;241m2\u001B[39m \u001B[38;5;241m*\u001B[39m pad, \u001B[38;5;241m2\u001B[39m \u001B[38;5;241m*\u001B[39m pad, pad, pad, []\n",
      "File \u001B[0;32m/run/media/ze/samsung1tb/google_drive/documentos/educacao/mba_usp/tcc/credit-analysis/.venv/lib/python3.10/site-packages/matplotlib/offsetbox.py:472\u001B[0m, in \u001B[0;36m<listcomp>\u001B[0;34m(.0)\u001B[0m\n\u001B[1;32m    469\u001B[0m pad \u001B[38;5;241m=\u001B[39m \u001B[38;5;28mself\u001B[39m\u001B[38;5;241m.\u001B[39mpad \u001B[38;5;241m*\u001B[39m dpicor\n\u001B[1;32m    470\u001B[0m sep \u001B[38;5;241m=\u001B[39m \u001B[38;5;28mself\u001B[39m\u001B[38;5;241m.\u001B[39msep \u001B[38;5;241m*\u001B[39m dpicor\n\u001B[0;32m--> 472\u001B[0m whd_list \u001B[38;5;241m=\u001B[39m [\u001B[43mc\u001B[49m\u001B[38;5;241;43m.\u001B[39;49m\u001B[43mget_extent\u001B[49m\u001B[43m(\u001B[49m\u001B[43mrenderer\u001B[49m\u001B[43m)\u001B[49m\n\u001B[1;32m    473\u001B[0m             \u001B[38;5;28;01mfor\u001B[39;00m c \u001B[38;5;129;01min\u001B[39;00m \u001B[38;5;28mself\u001B[39m\u001B[38;5;241m.\u001B[39mget_visible_children()]\n\u001B[1;32m    475\u001B[0m \u001B[38;5;28;01mif\u001B[39;00m \u001B[38;5;129;01mnot\u001B[39;00m whd_list:\n\u001B[1;32m    476\u001B[0m     \u001B[38;5;28;01mreturn\u001B[39;00m \u001B[38;5;241m2\u001B[39m \u001B[38;5;241m*\u001B[39m pad, \u001B[38;5;241m2\u001B[39m \u001B[38;5;241m*\u001B[39m pad, pad, pad, []\n",
      "File \u001B[0;32m/run/media/ze/samsung1tb/google_drive/documentos/educacao/mba_usp/tcc/credit-analysis/.venv/lib/python3.10/site-packages/matplotlib/offsetbox.py:345\u001B[0m, in \u001B[0;36mOffsetBox.get_extent\u001B[0;34m(self, renderer)\u001B[0m\n\u001B[1;32m    343\u001B[0m \u001B[38;5;28;01mdef\u001B[39;00m \u001B[38;5;21mget_extent\u001B[39m(\u001B[38;5;28mself\u001B[39m, renderer):\n\u001B[1;32m    344\u001B[0m     \u001B[38;5;124;03m\"\"\"Return a tuple ``width, height, xdescent, ydescent`` of the box.\"\"\"\u001B[39;00m\n\u001B[0;32m--> 345\u001B[0m     w, h, xd, yd, offsets \u001B[38;5;241m=\u001B[39m \u001B[38;5;28;43mself\u001B[39;49m\u001B[38;5;241;43m.\u001B[39;49m\u001B[43mget_extent_offsets\u001B[49m\u001B[43m(\u001B[49m\u001B[43mrenderer\u001B[49m\u001B[43m)\u001B[49m\n\u001B[1;32m    346\u001B[0m     \u001B[38;5;28;01mreturn\u001B[39;00m w, h, xd, yd\n",
      "File \u001B[0;32m/run/media/ze/samsung1tb/google_drive/documentos/educacao/mba_usp/tcc/credit-analysis/.venv/lib/python3.10/site-packages/matplotlib/offsetbox.py:436\u001B[0m, in \u001B[0;36mVPacker.get_extent_offsets\u001B[0;34m(self, renderer)\u001B[0m\n\u001B[1;32m    433\u001B[0m         \u001B[38;5;28;01mif\u001B[39;00m \u001B[38;5;28misinstance\u001B[39m(c, PackerBase) \u001B[38;5;129;01mand\u001B[39;00m c\u001B[38;5;241m.\u001B[39mmode \u001B[38;5;241m==\u001B[39m \u001B[38;5;124m\"\u001B[39m\u001B[38;5;124mexpand\u001B[39m\u001B[38;5;124m\"\u001B[39m:\n\u001B[1;32m    434\u001B[0m             c\u001B[38;5;241m.\u001B[39mset_width(\u001B[38;5;28mself\u001B[39m\u001B[38;5;241m.\u001B[39mwidth)\n\u001B[0;32m--> 436\u001B[0m whd_list \u001B[38;5;241m=\u001B[39m [c\u001B[38;5;241m.\u001B[39mget_extent(renderer)\n\u001B[1;32m    437\u001B[0m             \u001B[38;5;28;01mfor\u001B[39;00m c \u001B[38;5;129;01min\u001B[39;00m \u001B[38;5;28mself\u001B[39m\u001B[38;5;241m.\u001B[39mget_visible_children()]\n\u001B[1;32m    438\u001B[0m whd_list \u001B[38;5;241m=\u001B[39m [(w, h, xd, (h \u001B[38;5;241m-\u001B[39m yd)) \u001B[38;5;28;01mfor\u001B[39;00m w, h, xd, yd \u001B[38;5;129;01min\u001B[39;00m whd_list]\n\u001B[1;32m    440\u001B[0m wd_list \u001B[38;5;241m=\u001B[39m [(w, xd) \u001B[38;5;28;01mfor\u001B[39;00m w, h, xd, yd \u001B[38;5;129;01min\u001B[39;00m whd_list]\n",
      "File \u001B[0;32m/run/media/ze/samsung1tb/google_drive/documentos/educacao/mba_usp/tcc/credit-analysis/.venv/lib/python3.10/site-packages/matplotlib/offsetbox.py:436\u001B[0m, in \u001B[0;36m<listcomp>\u001B[0;34m(.0)\u001B[0m\n\u001B[1;32m    433\u001B[0m         \u001B[38;5;28;01mif\u001B[39;00m \u001B[38;5;28misinstance\u001B[39m(c, PackerBase) \u001B[38;5;129;01mand\u001B[39;00m c\u001B[38;5;241m.\u001B[39mmode \u001B[38;5;241m==\u001B[39m \u001B[38;5;124m\"\u001B[39m\u001B[38;5;124mexpand\u001B[39m\u001B[38;5;124m\"\u001B[39m:\n\u001B[1;32m    434\u001B[0m             c\u001B[38;5;241m.\u001B[39mset_width(\u001B[38;5;28mself\u001B[39m\u001B[38;5;241m.\u001B[39mwidth)\n\u001B[0;32m--> 436\u001B[0m whd_list \u001B[38;5;241m=\u001B[39m [\u001B[43mc\u001B[49m\u001B[38;5;241;43m.\u001B[39;49m\u001B[43mget_extent\u001B[49m\u001B[43m(\u001B[49m\u001B[43mrenderer\u001B[49m\u001B[43m)\u001B[49m\n\u001B[1;32m    437\u001B[0m             \u001B[38;5;28;01mfor\u001B[39;00m c \u001B[38;5;129;01min\u001B[39;00m \u001B[38;5;28mself\u001B[39m\u001B[38;5;241m.\u001B[39mget_visible_children()]\n\u001B[1;32m    438\u001B[0m whd_list \u001B[38;5;241m=\u001B[39m [(w, h, xd, (h \u001B[38;5;241m-\u001B[39m yd)) \u001B[38;5;28;01mfor\u001B[39;00m w, h, xd, yd \u001B[38;5;129;01min\u001B[39;00m whd_list]\n\u001B[1;32m    440\u001B[0m wd_list \u001B[38;5;241m=\u001B[39m [(w, xd) \u001B[38;5;28;01mfor\u001B[39;00m w, h, xd, yd \u001B[38;5;129;01min\u001B[39;00m whd_list]\n",
      "File \u001B[0;32m/run/media/ze/samsung1tb/google_drive/documentos/educacao/mba_usp/tcc/credit-analysis/.venv/lib/python3.10/site-packages/matplotlib/offsetbox.py:345\u001B[0m, in \u001B[0;36mOffsetBox.get_extent\u001B[0;34m(self, renderer)\u001B[0m\n\u001B[1;32m    343\u001B[0m \u001B[38;5;28;01mdef\u001B[39;00m \u001B[38;5;21mget_extent\u001B[39m(\u001B[38;5;28mself\u001B[39m, renderer):\n\u001B[1;32m    344\u001B[0m     \u001B[38;5;124;03m\"\"\"Return a tuple ``width, height, xdescent, ydescent`` of the box.\"\"\"\u001B[39;00m\n\u001B[0;32m--> 345\u001B[0m     w, h, xd, yd, offsets \u001B[38;5;241m=\u001B[39m \u001B[38;5;28;43mself\u001B[39;49m\u001B[38;5;241;43m.\u001B[39;49m\u001B[43mget_extent_offsets\u001B[49m\u001B[43m(\u001B[49m\u001B[43mrenderer\u001B[49m\u001B[43m)\u001B[49m\n\u001B[1;32m    346\u001B[0m     \u001B[38;5;28;01mreturn\u001B[39;00m w, h, xd, yd\n",
      "File \u001B[0;32m/run/media/ze/samsung1tb/google_drive/documentos/educacao/mba_usp/tcc/credit-analysis/.venv/lib/python3.10/site-packages/matplotlib/offsetbox.py:472\u001B[0m, in \u001B[0;36mHPacker.get_extent_offsets\u001B[0;34m(self, renderer)\u001B[0m\n\u001B[1;32m    469\u001B[0m pad \u001B[38;5;241m=\u001B[39m \u001B[38;5;28mself\u001B[39m\u001B[38;5;241m.\u001B[39mpad \u001B[38;5;241m*\u001B[39m dpicor\n\u001B[1;32m    470\u001B[0m sep \u001B[38;5;241m=\u001B[39m \u001B[38;5;28mself\u001B[39m\u001B[38;5;241m.\u001B[39msep \u001B[38;5;241m*\u001B[39m dpicor\n\u001B[0;32m--> 472\u001B[0m whd_list \u001B[38;5;241m=\u001B[39m [c\u001B[38;5;241m.\u001B[39mget_extent(renderer)\n\u001B[1;32m    473\u001B[0m             \u001B[38;5;28;01mfor\u001B[39;00m c \u001B[38;5;129;01min\u001B[39;00m \u001B[38;5;28mself\u001B[39m\u001B[38;5;241m.\u001B[39mget_visible_children()]\n\u001B[1;32m    475\u001B[0m \u001B[38;5;28;01mif\u001B[39;00m \u001B[38;5;129;01mnot\u001B[39;00m whd_list:\n\u001B[1;32m    476\u001B[0m     \u001B[38;5;28;01mreturn\u001B[39;00m \u001B[38;5;241m2\u001B[39m \u001B[38;5;241m*\u001B[39m pad, \u001B[38;5;241m2\u001B[39m \u001B[38;5;241m*\u001B[39m pad, pad, pad, []\n",
      "File \u001B[0;32m/run/media/ze/samsung1tb/google_drive/documentos/educacao/mba_usp/tcc/credit-analysis/.venv/lib/python3.10/site-packages/matplotlib/offsetbox.py:472\u001B[0m, in \u001B[0;36m<listcomp>\u001B[0;34m(.0)\u001B[0m\n\u001B[1;32m    469\u001B[0m pad \u001B[38;5;241m=\u001B[39m \u001B[38;5;28mself\u001B[39m\u001B[38;5;241m.\u001B[39mpad \u001B[38;5;241m*\u001B[39m dpicor\n\u001B[1;32m    470\u001B[0m sep \u001B[38;5;241m=\u001B[39m \u001B[38;5;28mself\u001B[39m\u001B[38;5;241m.\u001B[39msep \u001B[38;5;241m*\u001B[39m dpicor\n\u001B[0;32m--> 472\u001B[0m whd_list \u001B[38;5;241m=\u001B[39m [\u001B[43mc\u001B[49m\u001B[38;5;241;43m.\u001B[39;49m\u001B[43mget_extent\u001B[49m\u001B[43m(\u001B[49m\u001B[43mrenderer\u001B[49m\u001B[43m)\u001B[49m\n\u001B[1;32m    473\u001B[0m             \u001B[38;5;28;01mfor\u001B[39;00m c \u001B[38;5;129;01min\u001B[39;00m \u001B[38;5;28mself\u001B[39m\u001B[38;5;241m.\u001B[39mget_visible_children()]\n\u001B[1;32m    475\u001B[0m \u001B[38;5;28;01mif\u001B[39;00m \u001B[38;5;129;01mnot\u001B[39;00m whd_list:\n\u001B[1;32m    476\u001B[0m     \u001B[38;5;28;01mreturn\u001B[39;00m \u001B[38;5;241m2\u001B[39m \u001B[38;5;241m*\u001B[39m pad, \u001B[38;5;241m2\u001B[39m \u001B[38;5;241m*\u001B[39m pad, pad, pad, []\n",
      "File \u001B[0;32m/run/media/ze/samsung1tb/google_drive/documentos/educacao/mba_usp/tcc/credit-analysis/.venv/lib/python3.10/site-packages/matplotlib/offsetbox.py:813\u001B[0m, in \u001B[0;36mTextArea.get_extent\u001B[0;34m(self, renderer)\u001B[0m\n\u001B[1;32m    808\u001B[0m \u001B[38;5;28;01mdef\u001B[39;00m \u001B[38;5;21mget_extent\u001B[39m(\u001B[38;5;28mself\u001B[39m, renderer):\n\u001B[1;32m    809\u001B[0m     _, h_, d_ \u001B[38;5;241m=\u001B[39m renderer\u001B[38;5;241m.\u001B[39mget_text_width_height_descent(\n\u001B[1;32m    810\u001B[0m         \u001B[38;5;124m\"\u001B[39m\u001B[38;5;124mlp\u001B[39m\u001B[38;5;124m\"\u001B[39m, \u001B[38;5;28mself\u001B[39m\u001B[38;5;241m.\u001B[39m_text\u001B[38;5;241m.\u001B[39m_fontproperties,\n\u001B[1;32m    811\u001B[0m         ismath\u001B[38;5;241m=\u001B[39m\u001B[38;5;124m\"\u001B[39m\u001B[38;5;124mTeX\u001B[39m\u001B[38;5;124m\"\u001B[39m \u001B[38;5;28;01mif\u001B[39;00m \u001B[38;5;28mself\u001B[39m\u001B[38;5;241m.\u001B[39m_text\u001B[38;5;241m.\u001B[39mget_usetex() \u001B[38;5;28;01melse\u001B[39;00m \u001B[38;5;28;01mFalse\u001B[39;00m)\n\u001B[0;32m--> 813\u001B[0m     bbox, info, yd \u001B[38;5;241m=\u001B[39m \u001B[38;5;28;43mself\u001B[39;49m\u001B[38;5;241;43m.\u001B[39;49m\u001B[43m_text\u001B[49m\u001B[38;5;241;43m.\u001B[39;49m\u001B[43m_get_layout\u001B[49m\u001B[43m(\u001B[49m\u001B[43mrenderer\u001B[49m\u001B[43m)\u001B[49m\n\u001B[1;32m    814\u001B[0m     w, h \u001B[38;5;241m=\u001B[39m bbox\u001B[38;5;241m.\u001B[39mwidth, bbox\u001B[38;5;241m.\u001B[39mheight\n\u001B[1;32m    816\u001B[0m     \u001B[38;5;28mself\u001B[39m\u001B[38;5;241m.\u001B[39m_baseline_transform\u001B[38;5;241m.\u001B[39mclear()\n",
      "File \u001B[0;32m/run/media/ze/samsung1tb/google_drive/documentos/educacao/mba_usp/tcc/credit-analysis/.venv/lib/python3.10/site-packages/matplotlib/text.py:317\u001B[0m, in \u001B[0;36mText._get_layout\u001B[0;34m(self, renderer)\u001B[0m\n\u001B[1;32m    315\u001B[0m clean_line, ismath \u001B[38;5;241m=\u001B[39m \u001B[38;5;28mself\u001B[39m\u001B[38;5;241m.\u001B[39m_preprocess_math(line)\n\u001B[1;32m    316\u001B[0m \u001B[38;5;28;01mif\u001B[39;00m clean_line:\n\u001B[0;32m--> 317\u001B[0m     w, h, d \u001B[38;5;241m=\u001B[39m \u001B[43mrenderer\u001B[49m\u001B[38;5;241;43m.\u001B[39;49m\u001B[43mget_text_width_height_descent\u001B[49m\u001B[43m(\u001B[49m\n\u001B[1;32m    318\u001B[0m \u001B[43m        \u001B[49m\u001B[43mclean_line\u001B[49m\u001B[43m,\u001B[49m\u001B[43m \u001B[49m\u001B[38;5;28;43mself\u001B[39;49m\u001B[38;5;241;43m.\u001B[39;49m\u001B[43m_fontproperties\u001B[49m\u001B[43m,\u001B[49m\u001B[43m \u001B[49m\u001B[43mismath\u001B[49m\u001B[38;5;241;43m=\u001B[39;49m\u001B[43mismath\u001B[49m\u001B[43m)\u001B[49m\n\u001B[1;32m    319\u001B[0m \u001B[38;5;28;01melse\u001B[39;00m:\n\u001B[1;32m    320\u001B[0m     w \u001B[38;5;241m=\u001B[39m h \u001B[38;5;241m=\u001B[39m d \u001B[38;5;241m=\u001B[39m \u001B[38;5;241m0\u001B[39m\n",
      "File \u001B[0;32m/run/media/ze/samsung1tb/google_drive/documentos/educacao/mba_usp/tcc/credit-analysis/.venv/lib/python3.10/site-packages/matplotlib/backends/backend_agg.py:270\u001B[0m, in \u001B[0;36mRendererAgg.get_text_width_height_descent\u001B[0;34m(self, s, prop, ismath)\u001B[0m\n\u001B[1;32m    268\u001B[0m flags \u001B[38;5;241m=\u001B[39m get_hinting_flag()\n\u001B[1;32m    269\u001B[0m font \u001B[38;5;241m=\u001B[39m \u001B[38;5;28mself\u001B[39m\u001B[38;5;241m.\u001B[39m_get_agg_font(prop)\n\u001B[0;32m--> 270\u001B[0m \u001B[43mfont\u001B[49m\u001B[38;5;241;43m.\u001B[39;49m\u001B[43mset_text\u001B[49m\u001B[43m(\u001B[49m\u001B[43ms\u001B[49m\u001B[43m,\u001B[49m\u001B[43m \u001B[49m\u001B[38;5;241;43m0.0\u001B[39;49m\u001B[43m,\u001B[49m\u001B[43m \u001B[49m\u001B[43mflags\u001B[49m\u001B[38;5;241;43m=\u001B[39;49m\u001B[43mflags\u001B[49m\u001B[43m)\u001B[49m\n\u001B[1;32m    271\u001B[0m w, h \u001B[38;5;241m=\u001B[39m font\u001B[38;5;241m.\u001B[39mget_width_height()  \u001B[38;5;66;03m# width and height of unrotated string\u001B[39;00m\n\u001B[1;32m    272\u001B[0m d \u001B[38;5;241m=\u001B[39m font\u001B[38;5;241m.\u001B[39mget_descent()\n",
      "\u001B[0;31mKeyboardInterrupt\u001B[0m: "
     ]
    }
   ],
   "source": [
    "colunas_grafico = 3\n",
    "linhas_grafico = 7\n",
    "figure, axes = plt.subplots(linhas_grafico, colunas_grafico, squeeze=True, figsize=(21,10))\n",
    "for indice_variavel, variavel in enumerate(col_variaveis):\n",
    "    eixo_x = indice_variavel // colunas_grafico\n",
    "    eixo_y = indice_variavel % colunas_grafico\n",
    "    sns.countplot(ax=axes[eixo_x, eixo_y], data=df, x='vencido_acima_de_15_dias_dummizado_1.0', hue=variavel)"
   ],
   "metadata": {
    "collapsed": false,
    "pycharm": {
     "name": "#%%\n"
    }
   }
  },
  {
   "cell_type": "code",
   "execution_count": null,
   "outputs": [],
   "source": [
    "sns.heatmap(df[col_variaveis].isnull(), cbar=False)"
   ],
   "metadata": {
    "collapsed": false,
    "pycharm": {
     "name": "#%%\n"
    }
   }
  },
  {
   "cell_type": "code",
   "execution_count": null,
   "outputs": [],
   "source": [
    "variaveis_numericas = x_puro.select_dtypes(np.number).columns\n",
    "melt_numericas = pd.melt(x_puro[variaveis_numericas])\n",
    "sns.countplot(data=melt_numericas, x='variable', hue='value')"
   ],
   "metadata": {
    "collapsed": false,
    "pycharm": {
     "name": "#%%\n"
    }
   }
  },
  {
   "cell_type": "code",
   "execution_count": null,
   "outputs": [],
   "source": [
    "sns.heatmap(x_puro.isnull(), cbar=False)\n"
   ],
   "metadata": {
    "collapsed": false,
    "pycharm": {
     "name": "#%%\n"
    }
   }
  }
 ],
 "metadata": {
  "kernelspec": {
   "display_name": "Python 3",
   "language": "python",
   "name": "python3"
  },
  "language_info": {
   "codemirror_mode": {
    "name": "ipython",
    "version": 2
   },
   "file_extension": ".py",
   "mimetype": "text/x-python",
   "name": "python",
   "nbconvert_exporter": "python",
   "pygments_lexer": "ipython2",
   "version": "2.7.6"
  }
 },
 "nbformat": 4,
 "nbformat_minor": 0
}