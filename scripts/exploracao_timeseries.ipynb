{
 "cells": [
  {
   "cell_type": "code",
   "execution_count": 1,
   "id": "1486409c-866e-4074-b9b7-bda2734ed276",
   "metadata": {},
   "outputs": [],
   "source": [
    "import os\n",
    "\n",
    "import ipeadatapy as ipea\n",
    "\n",
    "\n",
    "def criar_arquivos_time_series(codigo: str, arquivo: str) -> None:\n",
    "    local_dir = '../databases/macroeconomicas/ipeadata/time_series'\n",
    "    ipea.describe(codigo).to_csv(f'{local_dir}/descricao_time_series_ipeadata_{arquivo}', sep=';', index=False)\n",
    "    ipea.timeseries(codigo, yearGreaterThan=2011).to_csv(f'{local_dir}/time_series_ipeadata_{arquivo}', sep=';', index=False)"
   ]
  },
  {
   "cell_type": "code",
   "execution_count": 3,
   "id": "b9a70541-d9ea-4a32-9359-413fe6635f25",
   "metadata": {},
   "outputs": [],
   "source": [
    "desc_pib = ipea.describe('BM12_PIB12')"
   ]
  },
  {
   "cell_type": "code",
   "execution_count": 4,
   "id": "50f0446d-a081-419e-9ff0-49a958399eda",
   "metadata": {},
   "outputs": [
    {
     "data": {
      "text/html": [
       "<div>\n",
       "<style scoped>\n",
       "    .dataframe tbody tr th:only-of-type {\n",
       "        vertical-align: middle;\n",
       "    }\n",
       "\n",
       "    .dataframe tbody tr th {\n",
       "        vertical-align: top;\n",
       "    }\n",
       "\n",
       "    .dataframe thead th {\n",
       "        text-align: right;\n",
       "    }\n",
       "</style>\n",
       "<table border=\"1\" class=\"dataframe\">\n",
       "  <thead>\n",
       "    <tr style=\"text-align: right;\">\n",
       "      <th></th>\n",
       "      <th>PIB</th>\n",
       "    </tr>\n",
       "  </thead>\n",
       "  <tbody>\n",
       "    <tr>\n",
       "      <th>Name</th>\n",
       "      <td>PIB</td>\n",
       "    </tr>\n",
       "    <tr>\n",
       "      <th>Code</th>\n",
       "      <td>BM12_PIB12</td>\n",
       "    </tr>\n",
       "    <tr>\n",
       "      <th>Big Theme</th>\n",
       "      <td>Macroeconômico</td>\n",
       "    </tr>\n",
       "    <tr>\n",
       "      <th>Theme</th>\n",
       "      <td>Contas nacionais</td>\n",
       "    </tr>\n",
       "    <tr>\n",
       "      <th>Source</th>\n",
       "      <td>Banco Central do Brasil, Boletim, Seção Ativid...</td>\n",
       "    </tr>\n",
       "    <tr>\n",
       "      <th>Source acronym</th>\n",
       "      <td>Bacen/Boletim/Ativ. Ec.</td>\n",
       "    </tr>\n",
       "    <tr>\n",
       "      <th>Comment</th>\n",
       "      <td>O Produto Interno Bruto (PIB) denominado como ...</td>\n",
       "    </tr>\n",
       "    <tr>\n",
       "      <th>Last update</th>\n",
       "      <td>2022-06-29T15:12:01.157-03:00</td>\n",
       "    </tr>\n",
       "    <tr>\n",
       "      <th>Frequency</th>\n",
       "      <td>Mensal</td>\n",
       "    </tr>\n",
       "    <tr>\n",
       "      <th>Measure</th>\n",
       "      <td>R$</td>\n",
       "    </tr>\n",
       "    <tr>\n",
       "      <th>Unit</th>\n",
       "      <td>milhões</td>\n",
       "    </tr>\n",
       "    <tr>\n",
       "      <th>Status</th>\n",
       "      <td>A</td>\n",
       "    </tr>\n",
       "  </tbody>\n",
       "</table>\n",
       "</div>"
      ],
      "text/plain": [
       "                                                              PIB\n",
       "Name                                                          PIB\n",
       "Code                                                   BM12_PIB12\n",
       "Big Theme                                          Macroeconômico\n",
       "Theme                                            Contas nacionais\n",
       "Source          Banco Central do Brasil, Boletim, Seção Ativid...\n",
       "Source acronym                            Bacen/Boletim/Ativ. Ec.\n",
       "Comment         O Produto Interno Bruto (PIB) denominado como ...\n",
       "Last update                         2022-06-29T15:12:01.157-03:00\n",
       "Frequency                                                  Mensal\n",
       "Measure                                                        R$\n",
       "Unit                                                      milhões\n",
       "Status                                                          A"
      ]
     },
     "execution_count": 4,
     "metadata": {},
     "output_type": "execute_result"
    }
   ],
   "source": [
    "desc_pib"
   ]
  },
  {
   "cell_type": "code",
   "execution_count": 13,
   "id": "c78d7bac-51a0-4c6d-a3f7-0db359b62eca",
   "metadata": {},
   "outputs": [
    {
     "data": {
      "text/plain": [
       "pandas.core.frame.DataFrame"
      ]
     },
     "execution_count": 13,
     "metadata": {},
     "output_type": "execute_result"
    }
   ],
   "source": []
  },
  {
   "cell_type": "code",
   "execution_count": 12,
   "id": "53fe72b9-678a-45c4-9cb8-e41114941859",
   "metadata": {},
   "outputs": [],
   "source": [
    "ipea.timeseries('BM12_PIB12', yearGreaterThan=2011).to_csv('macroeconomicas/ipeadata/time_series/time_series_ipeadata_pib', sep=';', index=False)"
   ]
  },
  {
   "cell_type": "code",
   "execution_count": 4,
   "id": "14b4bc84-67e5-4d03-822c-e2f5be4af01d",
   "metadata": {},
   "outputs": [],
   "source": [
    "criar_arquivos_time_series('BM12_PIB12', 'pib')"
   ]
  },
  {
   "cell_type": "code",
   "execution_count": 3,
   "id": "7a399e55-d9fa-4d93-9094-da15a0b67112",
   "metadata": {},
   "outputs": [],
   "source": [
    "dict_tuplas_codigo_arquivo = {'desemprego': ('ECONMI12_ALU12', 'taxas_desemprego'),\n",
    "                              'inflacao': (\n",
    "                                  ('PRECOS12_IPCA12', 'ipca_indice_geral'),\n",
    "                                  ('PRECOS12_IPCAG12', 'ipca_taxa_variacao')),\n",
    "                              'taxa_crescimento': ('DEPIS_TGCPOP', 'taxa_crescimento_geometrico'),\n",
    "                              'renda': (\n",
    "                                  ('FCESP12_IICA12', 'indice_condicoes_economicas_atuais'),\n",
    "                                  ('SCN104_PNBN104', 'renda_nacional_bruta'))\n",
    "                              }\n",
    "for tupla in dict_tuplas_codigo_arquivo.values():\n",
    "    if isinstance(tupla[0], str):\n",
    "        criar_arquivos_time_series(tupla[0], tupla[1])\n",
    "    else:\n",
    "        for tupla_interna in tupla:\n",
    "            criar_arquivos_time_series(tupla_interna[0], tupla_interna[1])"
   ]
  },
  {
   "cell_type": "code",
   "execution_count": 2,
   "id": "fa0ed230-1736-4016-97b6-b1c286bfc389",
   "metadata": {},
   "outputs": [
    {
     "name": "stdout",
     "output_type": "stream",
     "text": [
      "ECONMI12_ALU12 taxas_desemprego\n",
      "PRECOS12_IPCA12 ipca_indice_geral\n",
      "PRECOS12_IPCAG12 ipca_taxa_variacao\n",
      "DEPIS_TGCPOP taxa_crescimento_geometrico\n",
      "FCESP12_IICA12 indice_condicoes_economicas_atuais\n",
      "SCN104_PNBN104 renda_nacional_bruta\n"
     ]
    }
   ],
   "source": [
    "dict_tuplas_codigo_arquivo = {'desemprego': ('ECONMI12_ALU12', 'taxas_desemprego'),\n",
    "                              'inflacao': (\n",
    "                                  ('PRECOS12_IPCA12', 'ipca_indice_geral'),\n",
    "                                  ('PRECOS12_IPCAG12', 'ipca_taxa_variacao')),\n",
    "                              'taxa_crescimento': ('DEPIS_TGCPOP', 'taxa_crescimento_geometrico'),\n",
    "                              'renda': (\n",
    "                                  ('FCESP12_IICA12', 'indice_condicoes_economicas_atuais'),\n",
    "                                  ('SCN104_PNBN104', 'renda_nacional_bruta'))\n",
    "                              }\n",
    "for tupla in dict_tuplas_codigo_arquivo.values():\n",
    "    if isinstance(tupla[0], str):\n",
    "        print(tupla[0], tupla[1])\n",
    "    else:\n",
    "        for tupla_interna in tupla:\n",
    "            print(tupla_interna[0], tupla_interna[1])"
   ]
  }
 ],
 "metadata": {
  "kernelspec": {
   "display_name": "Python 3 (ipykernel)",
   "language": "python",
   "name": "python3"
  },
  "language_info": {
   "codemirror_mode": {
    "name": "ipython",
    "version": 3
   },
   "file_extension": ".py",
   "mimetype": "text/x-python",
   "name": "python",
   "nbconvert_exporter": "python",
   "pygments_lexer": "ipython3",
   "version": "3.10.4"
  }
 },
 "nbformat": 4,
 "nbformat_minor": 5
}
